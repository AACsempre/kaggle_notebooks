{
 "cells": [
  {
   "cell_type": "markdown",
   "id": "tribal-editor",
   "metadata": {
    "papermill": {
     "duration": 0.037663,
     "end_time": "2021-06-14T00:53:51.194150",
     "exception": false,
     "start_time": "2021-06-14T00:53:51.156487",
     "status": "completed"
    },
    "tags": []
   },
   "source": [
    "# Load Data"
   ]
  },
  {
   "cell_type": "code",
   "execution_count": 1,
   "id": "arabic-schema",
   "metadata": {
    "execution": {
     "iopub.execute_input": "2021-06-14T00:53:51.273241Z",
     "iopub.status.busy": "2021-06-14T00:53:51.270966Z",
     "iopub.status.idle": "2021-06-14T00:53:54.365660Z",
     "shell.execute_reply": "2021-06-14T00:53:54.364879Z"
    },
    "papermill": {
     "duration": 3.134043,
     "end_time": "2021-06-14T00:53:54.365847",
     "exception": false,
     "start_time": "2021-06-14T00:53:51.231804",
     "status": "completed"
    },
    "tags": []
   },
   "outputs": [
    {
     "name": "stderr",
     "output_type": "stream",
     "text": [
      "── \u001b[1mAttaching packages\u001b[22m ─────────────────────────────────────── tidyverse 1.3.0 ──\n",
      "\n",
      "\u001b[32m✔\u001b[39m \u001b[34mggplot2\u001b[39m 3.3.3     \u001b[32m✔\u001b[39m \u001b[34mpurrr  \u001b[39m 0.3.4\n",
      "\u001b[32m✔\u001b[39m \u001b[34mtibble \u001b[39m 3.1.0     \u001b[32m✔\u001b[39m \u001b[34mdplyr  \u001b[39m 1.0.5\n",
      "\u001b[32m✔\u001b[39m \u001b[34mtidyr  \u001b[39m 1.1.3     \u001b[32m✔\u001b[39m \u001b[34mstringr\u001b[39m 1.4.0\n",
      "\u001b[32m✔\u001b[39m \u001b[34mreadr  \u001b[39m 1.4.0     \u001b[32m✔\u001b[39m \u001b[34mforcats\u001b[39m 0.5.0\n",
      "\n",
      "── \u001b[1mConflicts\u001b[22m ────────────────────────────────────────── tidyverse_conflicts() ──\n",
      "\u001b[31m✖\u001b[39m \u001b[34mdplyr\u001b[39m::\u001b[32mfilter()\u001b[39m masks \u001b[34mstats\u001b[39m::filter()\n",
      "\u001b[31m✖\u001b[39m \u001b[34mdplyr\u001b[39m::\u001b[32mlag()\u001b[39m    masks \u001b[34mstats\u001b[39m::lag()\n",
      "\n",
      "Loaded ROSE 0.0-3\n",
      "\n",
      "\n",
      "corrplot 0.84 loaded\n",
      "\n",
      "Loading required package: lattice\n",
      "\n",
      "\n",
      "Attaching package: ‘caret’\n",
      "\n",
      "\n",
      "The following object is masked from ‘package:purrr’:\n",
      "\n",
      "    lift\n",
      "\n",
      "\n",
      "The following object is masked from ‘package:httr’:\n",
      "\n",
      "    progress\n",
      "\n",
      "\n",
      "randomForest 4.6-14\n",
      "\n",
      "Type rfNews() to see new features/changes/bug fixes.\n",
      "\n",
      "\n",
      "Attaching package: ‘randomForest’\n",
      "\n",
      "\n",
      "The following object is masked from ‘package:dplyr’:\n",
      "\n",
      "    combine\n",
      "\n",
      "\n",
      "The following object is masked from ‘package:ggplot2’:\n",
      "\n",
      "    margin\n",
      "\n",
      "\n"
     ]
    }
   ],
   "source": [
    "library(tidyverse)\n",
    "library(ROSE)\n",
    "library(corrplot)\n",
    "library(caret)\n",
    "library(randomForest)\n",
    "set.seed(101)"
   ]
  },
  {
   "cell_type": "code",
   "execution_count": 2,
   "id": "potential-porter",
   "metadata": {
    "execution": {
     "iopub.execute_input": "2021-06-14T00:53:54.478160Z",
     "iopub.status.busy": "2021-06-14T00:53:54.453785Z",
     "iopub.status.idle": "2021-06-14T00:53:54.668938Z",
     "shell.execute_reply": "2021-06-14T00:53:54.667727Z"
    },
    "papermill": {
     "duration": 0.259446,
     "end_time": "2021-06-14T00:53:54.669037",
     "exception": false,
     "start_time": "2021-06-14T00:53:54.409591",
     "status": "completed"
    },
    "tags": []
   },
   "outputs": [
    {
     "name": "stdout",
     "output_type": "stream",
     "text": [
      "'data.frame':\t5110 obs. of  12 variables:\n",
      " $ id               : int  9046 51676 31112 60182 1665 56669 53882 10434 27419 60491 ...\n",
      " $ gender           : Factor w/ 3 levels \"Female\",\"Male\",..: 2 1 2 1 1 2 2 1 1 1 ...\n",
      " $ age              : num  67 61 80 49 79 81 74 69 59 78 ...\n",
      " $ hypertension     : int  0 0 0 0 1 0 1 0 0 0 ...\n",
      " $ heart_disease    : int  1 0 1 0 0 0 1 0 0 0 ...\n",
      " $ ever_married     : Factor w/ 2 levels \"No\",\"Yes\": 2 2 2 2 2 2 2 1 2 2 ...\n",
      " $ work_type        : Factor w/ 5 levels \"children\",\"Govt_job\",..: 4 5 4 4 5 4 4 4 4 4 ...\n",
      " $ Residence_type   : Factor w/ 2 levels \"Rural\",\"Urban\": 2 1 1 2 1 2 1 2 1 2 ...\n",
      " $ avg_glucose_level: num  229 202 106 171 174 ...\n",
      " $ bmi              : Factor w/ 419 levels \"10.3\",\"11.3\",..: 240 419 199 218 114 164 148 102 419 116 ...\n",
      " $ smoking_status   : Factor w/ 4 levels \"formerly smoked\",..: 1 2 2 3 2 1 2 2 4 4 ...\n",
      " $ stroke           : int  1 1 1 1 1 1 1 1 1 1 ...\n"
     ]
    },
    {
     "data": {
      "text/html": [
       "'null data0: FALSE'"
      ],
      "text/latex": [
       "'null data0: FALSE'"
      ],
      "text/markdown": [
       "'null data0: FALSE'"
      ],
      "text/plain": [
       "[1] \"null data0: FALSE\""
      ]
     },
     "metadata": {},
     "output_type": "display_data"
    },
    {
     "data": {
      "text/html": [
       "'Amount of Strokes: 249'"
      ],
      "text/latex": [
       "'Amount of Strokes: 249'"
      ],
      "text/markdown": [
       "'Amount of Strokes: 249'"
      ],
      "text/plain": [
       "[1] \"Amount of Strokes: 249\""
      ]
     },
     "metadata": {},
     "output_type": "display_data"
    }
   ],
   "source": [
    "#load\n",
    "data <- read.csv(\"../input/stroke-prediction-dataset/healthcare-dataset-stroke-data.csv\")\n",
    "#see structure\n",
    "str(data)\n",
    "#check for nulls\n",
    "paste0(\"null data0: \", is.null(data))\n",
    "#check how many strokes\n",
    "paste0(\"Amount of Strokes: \", sum(data$stroke))"
   ]
  },
  {
   "cell_type": "code",
   "execution_count": 3,
   "id": "bizarre-business",
   "metadata": {
    "execution": {
     "iopub.execute_input": "2021-06-14T00:53:54.729629Z",
     "iopub.status.busy": "2021-06-14T00:53:54.728997Z",
     "iopub.status.idle": "2021-06-14T00:53:54.742121Z",
     "shell.execute_reply": "2021-06-14T00:53:54.741111Z"
    },
    "papermill": {
     "duration": 0.04517,
     "end_time": "2021-06-14T00:53:54.742244",
     "exception": false,
     "start_time": "2021-06-14T00:53:54.697074",
     "status": "completed"
    },
    "tags": []
   },
   "outputs": [
    {
     "data": {
      "text/plain": [
       "\n",
       "         0          1 \n",
       "0.95127202 0.04872798 "
      ]
     },
     "metadata": {},
     "output_type": "display_data"
    }
   ],
   "source": [
    "prop.table(table(data$stroke))"
   ]
  },
  {
   "cell_type": "markdown",
   "id": "martial-corps",
   "metadata": {
    "papermill": {
     "duration": 0.043831,
     "end_time": "2021-06-14T00:53:54.829973",
     "exception": false,
     "start_time": "2021-06-14T00:53:54.786142",
     "status": "completed"
    },
    "tags": []
   },
   "source": [
    "**Data is a lot unbalanced. Results will not be good if this is not taken it into account (that was confirmed during some tests).  <br>\n",
    "Data will be balanced after train/test split.**"
   ]
  },
  {
   "cell_type": "markdown",
   "id": "automatic-blind",
   "metadata": {
    "papermill": {
     "duration": 0.043879,
     "end_time": "2021-06-14T00:53:54.917802",
     "exception": false,
     "start_time": "2021-06-14T00:53:54.873923",
     "status": "completed"
    },
    "tags": []
   },
   "source": [
    "# Clean data"
   ]
  },
  {
   "cell_type": "code",
   "execution_count": 4,
   "id": "induced-charge",
   "metadata": {
    "execution": {
     "iopub.execute_input": "2021-06-14T00:53:55.010031Z",
     "iopub.status.busy": "2021-06-14T00:53:55.009306Z",
     "iopub.status.idle": "2021-06-14T00:53:55.183865Z",
     "shell.execute_reply": "2021-06-14T00:53:55.183203Z"
    },
    "papermill": {
     "duration": 0.222351,
     "end_time": "2021-06-14T00:53:55.183989",
     "exception": false,
     "start_time": "2021-06-14T00:53:54.961638",
     "status": "completed"
    },
    "tags": []
   },
   "outputs": [
    {
     "data": {
      "text/plain": [
       "\n",
       "Female   Male  Other \n",
       "  2994   2115      1 "
      ]
     },
     "metadata": {},
     "output_type": "display_data"
    },
    {
     "name": "stdout",
     "output_type": "stream",
     "text": [
      "\n",
      "Table of Strokes (1)"
     ]
    },
    {
     "data": {
      "text/plain": [
       "        \n",
       "            0    1\n",
       "  Female 2853  141\n",
       "  Male   2007  108\n",
       "  Other     1    0"
      ]
     },
     "metadata": {},
     "output_type": "display_data"
    },
    {
     "name": "stdout",
     "output_type": "stream",
     "text": [
      "\n",
      "Gender to numeric     id gender age hypertension heart_disease ever_married     work_type\n",
      "1  9046      1  67            0             1          Yes       Private\n",
      "2 51676      0  61            0             0          Yes Self-employed\n",
      "3 31112      1  80            0             1          Yes       Private\n",
      "4 60182      0  49            0             0          Yes       Private\n",
      "5  1665      0  79            1             0          Yes Self-employed\n",
      "6 56669      1  81            0             0          Yes       Private\n",
      "  Residence_type avg_glucose_level  bmi  smoking_status stroke\n",
      "1          Urban            228.69 36.6 formerly smoked      1\n",
      "2          Rural            202.21  N/A    never smoked      1\n",
      "3          Rural            105.92 32.5    never smoked      1\n",
      "4          Urban            171.23 34.4          smokes      1\n",
      "5          Rural            174.12   24    never smoked      1\n",
      "6          Urban            186.21   29 formerly smoked      1\n"
     ]
    }
   ],
   "source": [
    "table(factor(data$gender))\n",
    "\n",
    "cat(\"\\nTable of Strokes (1)\")\n",
    "table(data$gender, data$stroke)\n",
    "\n",
    "cat(\"\\nGender to numeric\")\n",
    "\n",
    "data$gender <- as.character(data$gender)  \n",
    "for (i in 1:length(data$gender)) {\n",
    "    if (data$gender[i] == \"Male\") {\n",
    "        data$gender[i] <- 1\n",
    "    } \n",
    "    else if (data$gender[i] == \"Female\") {\n",
    "        data$gender[i] <- 0\n",
    "    } \n",
    "    else {    #replace other with NA...or something in between\n",
    "        data$gender[i] <- 0.5\n",
    "    }\n",
    "}\n",
    "data$gender <- as.numeric(data$gender)\n",
    "print(head(data))"
   ]
  },
  {
   "cell_type": "code",
   "execution_count": 5,
   "id": "treated-baseline",
   "metadata": {
    "execution": {
     "iopub.execute_input": "2021-06-14T00:53:55.280783Z",
     "iopub.status.busy": "2021-06-14T00:53:55.280150Z",
     "iopub.status.idle": "2021-06-14T00:53:55.308838Z",
     "shell.execute_reply": "2021-06-14T00:53:55.307880Z"
    },
    "papermill": {
     "duration": 0.078286,
     "end_time": "2021-06-14T00:53:55.308969",
     "exception": false,
     "start_time": "2021-06-14T00:53:55.230683",
     "status": "completed"
    },
    "tags": []
   },
   "outputs": [
    {
     "data": {
      "text/plain": [
       "\n",
       "  No  Yes \n",
       "1757 3353 "
      ]
     },
     "metadata": {},
     "output_type": "display_data"
    },
    {
     "name": "stdout",
     "output_type": "stream",
     "text": [
      "\n",
      "Table of Strokes"
     ]
    },
    {
     "data": {
      "text/plain": [
       "     \n",
       "         0    1\n",
       "  No  1728   29\n",
       "  Yes 3133  220"
      ]
     },
     "metadata": {},
     "output_type": "display_data"
    },
    {
     "name": "stdout",
     "output_type": "stream",
     "text": [
      "Obviously, ever been married is much worse to have a Stroke!....\n",
      "....probably just because it corresponds to someone older :) \n",
      "\n",
      "Ever_married to binary"
     ]
    }
   ],
   "source": [
    "table(factor(data$ever_married))\n",
    "cat(\"\\nTable of Strokes\")\n",
    "table(data$ever_married, data$stroke)\n",
    "cat(\"Obviously, ever been married is much worse to have a Stroke!....\\n\")\n",
    "cat(\"....probably just because it corresponds to someone older :) \\n\" )\n",
    "\n",
    "cat(\"\\nEver_married to binary\")\n",
    "data$ever_married <- as.numeric(data$ever_married) - 1 #to become binary"
   ]
  },
  {
   "cell_type": "code",
   "execution_count": 6,
   "id": "occupied-trouble",
   "metadata": {
    "execution": {
     "iopub.execute_input": "2021-06-14T00:53:55.410552Z",
     "iopub.status.busy": "2021-06-14T00:53:55.409286Z",
     "iopub.status.idle": "2021-06-14T00:53:55.838164Z",
     "shell.execute_reply": "2021-06-14T00:53:55.837090Z"
    },
    "papermill": {
     "duration": 0.481019,
     "end_time": "2021-06-14T00:53:55.838296",
     "exception": false,
     "start_time": "2021-06-14T00:53:55.357277",
     "status": "completed"
    },
    "tags": []
   },
   "outputs": [
    {
     "data": {
      "text/plain": [
       "\n",
       "     children      Govt_job  Never_worked       Private Self-employed \n",
       "          687           657            22          2925           819 "
      ]
     },
     "metadata": {},
     "output_type": "display_data"
    },
    {
     "name": "stdout",
     "output_type": "stream",
     "text": [
      "\n",
      "Table of Strokes (1)"
     ]
    },
    {
     "data": {
      "text/plain": [
       "               \n",
       "                   0    1\n",
       "  children       685    2\n",
       "  Govt_job       624   33\n",
       "  Never_worked    22    0\n",
       "  Private       2776  149\n",
       "  Self-employed  754   65"
      ]
     },
     "metadata": {},
     "output_type": "display_data"
    },
    {
     "name": "stdout",
     "output_type": "stream",
     "text": [
      "\n",
      "Work_type to ... Let's separate in children and never worked (which could also be very young people) - make a new variable 'young' to them\n",
      "The remaing are separated in new dummy variables, wither work for others or self-employed (which seems more stressful)     id gender age hypertension heart_disease ever_married     work_type\n",
      "1  9046      1  67            0             1            1       Private\n",
      "2 51676      0  61            0             0            1 Self-employed\n",
      "3 31112      1  80            0             1            1       Private\n",
      "4 60182      0  49            0             0            1       Private\n",
      "5  1665      0  79            1             0            1 Self-employed\n",
      "6 56669      1  81            0             0            1       Private\n",
      "  Residence_type avg_glucose_level  bmi  smoking_status stroke young\n",
      "1          Urban            228.69 36.6 formerly smoked      1     0\n",
      "2          Rural            202.21  N/A    never smoked      1     0\n",
      "3          Rural            105.92 32.5    never smoked      1     0\n",
      "4          Urban            171.23 34.4          smokes      1     0\n",
      "5          Rural            174.12   24    never smoked      1     0\n",
      "6          Urban            186.21   29 formerly smoked      1     0\n",
      "  work_others work_self\n",
      "1           0         0\n",
      "2           0         1\n",
      "3           0         0\n",
      "4           0         0\n",
      "5           0         1\n",
      "6           0         0\n"
     ]
    }
   ],
   "source": [
    "#work_type is more difficult.... must transform each type to binary... start with children\n",
    "table(factor(data$work_type))\n",
    "cat(\"\\nTable of Strokes (1)\")\n",
    "table(data$work_type, data$stroke)\n",
    "\n",
    "cat(\"\\nWork_type to ... Let's separate in children and never worked (which could also be very young people) - make a new variable 'young' to them\\n\")\n",
    "cat(\"The remaing are separated in new dummy variables, wither work for others or self-employed (which seems more stressful)\")\n",
    "\n",
    "data$work_type <- as.character(data$work_type)\n",
    "for (i in 1:length(data$id)) {\n",
    "    if (data$work_type[i] == \"children\" || data$work_type[i] == \"Never_worked\" ) {\n",
    "        data$young[i] <- 1\n",
    "    }\n",
    "    else {\n",
    "        data$young[i] <- 0\n",
    "    }      \n",
    "}\n",
    "\n",
    "#data$work_type <- as.character(data$work_type)\n",
    "for (i in 1:length(data$id)) {\n",
    "    if (data$work_type[i] == \"Govt_job\" || data$work_type[i] == \"Private Self\" ) { \n",
    "        data$work_others[i] <- 1\n",
    "    }\n",
    "    else {\n",
    "        data$work_others[i] <- 0\n",
    "    }      \n",
    "}\n",
    "\n",
    "for (i in 1:length(data$id)) {\n",
    "    if (data$work_type[i] == \"Self-employed\" ) { \n",
    "        data$work_self[i] <- 1\n",
    "    }\n",
    "    else {\n",
    "        data$work_self[i] <- 0\n",
    "    }      \n",
    "}\n",
    "print(head(data))"
   ]
  },
  {
   "cell_type": "code",
   "execution_count": 7,
   "id": "certified-things",
   "metadata": {
    "execution": {
     "iopub.execute_input": "2021-06-14T00:53:55.946207Z",
     "iopub.status.busy": "2021-06-14T00:53:55.944908Z",
     "iopub.status.idle": "2021-06-14T00:53:55.970978Z",
     "shell.execute_reply": "2021-06-14T00:53:55.969936Z"
    },
    "papermill": {
     "duration": 0.081218,
     "end_time": "2021-06-14T00:53:55.971098",
     "exception": false,
     "start_time": "2021-06-14T00:53:55.889880",
     "status": "completed"
    },
    "tags": []
   },
   "outputs": [
    {
     "data": {
      "text/plain": [
       "\n",
       "Rural Urban \n",
       " 2514  2596 "
      ]
     },
     "metadata": {},
     "output_type": "display_data"
    },
    {
     "name": "stdout",
     "output_type": "stream",
     "text": [
      "\n",
      "Table of Strokes (1)"
     ]
    },
    {
     "data": {
      "text/plain": [
       "       \n",
       "           0    1\n",
       "  Rural 2400  114\n",
       "  Urban 2461  135"
      ]
     },
     "metadata": {},
     "output_type": "display_data"
    },
    {
     "name": "stdout",
     "output_type": "stream",
     "text": [
      "\n",
      "Residence_type to binary"
     ]
    }
   ],
   "source": [
    "table(factor(data$Residence_type))\n",
    "\n",
    "cat(\"\\nTable of Strokes (1)\")\n",
    "table(data$Residence_type, data$stroke)\n",
    "\n",
    "cat(\"\\nResidence_type to binary\")\n",
    "data$Residence_type <- as.numeric(data$Residence_type) - 1 #to become binary"
   ]
  },
  {
   "cell_type": "code",
   "execution_count": 8,
   "id": "little-outside",
   "metadata": {
    "execution": {
     "iopub.execute_input": "2021-06-14T00:53:56.081946Z",
     "iopub.status.busy": "2021-06-14T00:53:56.080814Z",
     "iopub.status.idle": "2021-06-14T00:53:56.105380Z",
     "shell.execute_reply": "2021-06-14T00:53:56.104383Z"
    },
    "papermill": {
     "duration": 0.081575,
     "end_time": "2021-06-14T00:53:56.105481",
     "exception": false,
     "start_time": "2021-06-14T00:53:56.023906",
     "status": "completed"
    },
    "tags": []
   },
   "outputs": [
    {
     "name": "stdout",
     "output_type": "stream",
     "text": [
      "\n",
      "bmi to numeric"
     ]
    },
    {
     "name": "stderr",
     "output_type": "stream",
     "text": [
      "Warning message in eval(expr, envir, enclos):\n",
      "“NAs introduced by coercion”\n"
     ]
    },
    {
     "name": "stdout",
     "output_type": "stream",
     "text": [
      "\n",
      "replace na with mean value"
     ]
    },
    {
     "data": {
      "text/plain": [
       "   Min. 1st Qu.  Median    Mean 3rd Qu.    Max. \n",
       "  10.30   23.80   28.40   28.89   32.80   97.60 "
      ]
     },
     "metadata": {},
     "output_type": "display_data"
    }
   ],
   "source": [
    "cat(\"\\nbmi to numeric\")\n",
    "#bmi is tricky in R... need to convert level (not the factor) to numeric\n",
    "#levels(data$bmi)\n",
    "data$bmi <- as.numeric(levels(data$bmi))[data$bmi]\n",
    "cat(\"\\nreplace na with mean value\")\n",
    "data$bmi[is.na(data$bmi)] <- mean(data$bmi, na.rm = TRUE)\n",
    "summary(data$bmi)"
   ]
  },
  {
   "cell_type": "code",
   "execution_count": 9,
   "id": "cardiac-routine",
   "metadata": {
    "execution": {
     "iopub.execute_input": "2021-06-14T00:53:56.179450Z",
     "iopub.status.busy": "2021-06-14T00:53:56.178736Z",
     "iopub.status.idle": "2021-06-14T00:53:56.352399Z",
     "shell.execute_reply": "2021-06-14T00:53:56.351672Z"
    },
    "papermill": {
     "duration": 0.211824,
     "end_time": "2021-06-14T00:53:56.352523",
     "exception": false,
     "start_time": "2021-06-14T00:53:56.140699",
     "status": "completed"
    },
    "tags": []
   },
   "outputs": [
    {
     "data": {
      "text/plain": [
       "\n",
       "formerly smoked    never smoked          smokes         Unknown \n",
       "            885            1892             789            1544 "
      ]
     },
     "metadata": {},
     "output_type": "display_data"
    },
    {
     "name": "stdout",
     "output_type": "stream",
     "text": [
      "\n",
      "Table of Strokes (1)"
     ]
    },
    {
     "data": {
      "text/plain": [
       "                 \n",
       "                     0    1\n",
       "  formerly smoked  815   70\n",
       "  never smoked    1802   90\n",
       "  smokes           747   42\n",
       "  Unknown         1497   47"
      ]
     },
     "metadata": {},
     "output_type": "display_data"
    },
    {
     "name": "stdout",
     "output_type": "stream",
     "text": [
      "\n",
      "Smoking_status to ....never unknown what is unkonown... There are several unknown, so what to do?..\n",
      "Assume unknown is somewhere between never smoked and formerly smoked... give them 10.."
     ]
    }
   ],
   "source": [
    "table(factor(data$smoking_status))\n",
    "\n",
    "cat(\"\\nTable of Strokes (1)\")\n",
    "table(data$smoking_status, data$stroke)\n",
    "\n",
    "cat(\"\\nSmoking_status to ....never unknown what is unkonown... There are several unknown, so what to do?..\")\n",
    "\n",
    "\n",
    "cat(\"\\nAssume unknown is somewhere between never smoked and formerly smoked... give them 10..\")\n",
    "data$smoking_status <- as.character(data$smoking_status)\n",
    "for (i in 1:length(data$id)) {\n",
    "    if (data$smoking_status[i] == \"Unknown\") {\n",
    "        data$smoking_status[i] <- 10\n",
    "    } \n",
    "#never smoked is 0\n",
    "    else if (data$smoking_status[i] == \"never smoked\") { \n",
    "        data$smoking_status[i] <- 0\n",
    "    } \n",
    "#formerly smoked is 20\n",
    "    else if (data$smoking_status[i] == \"formerly smoked\") {\n",
    "        data$smoking_status[i] <- 30\n",
    "    } \n",
    "#smokes is 30\n",
    "    else if (data$smoking_status[i] == \"smokes\") {\n",
    "        data$smoking_status[i] <- 50\n",
    "    } \n",
    "}\n",
    "data$smoking_status <- as.numeric(data$smoking_status)"
   ]
  },
  {
   "cell_type": "code",
   "execution_count": 10,
   "id": "mediterranean-mounting",
   "metadata": {
    "execution": {
     "iopub.execute_input": "2021-06-14T00:53:56.431690Z",
     "iopub.status.busy": "2021-06-14T00:53:56.430344Z",
     "iopub.status.idle": "2021-06-14T00:53:56.475762Z",
     "shell.execute_reply": "2021-06-14T00:53:56.474479Z"
    },
    "papermill": {
     "duration": 0.085744,
     "end_time": "2021-06-14T00:53:56.475960",
     "exception": false,
     "start_time": "2021-06-14T00:53:56.390216",
     "status": "completed"
    },
    "tags": []
   },
   "outputs": [
    {
     "data": {
      "text/html": [
       "5110"
      ],
      "text/latex": [
       "5110"
      ],
      "text/markdown": [
       "5110"
      ],
      "text/plain": [
       "[1] 5110"
      ]
     },
     "metadata": {},
     "output_type": "display_data"
    },
    {
     "name": "stdout",
     "output_type": "stream",
     "text": [
      "drop unused columns'data.frame':\t5110 obs. of  13 variables:\n",
      " $ gender           : num  1 0 1 0 0 1 1 0 0 0 ...\n",
      " $ age              : num  67 61 80 49 79 81 74 69 59 78 ...\n",
      " $ hypertension     : int  0 0 0 0 1 0 1 0 0 0 ...\n",
      " $ heart_disease    : int  1 0 1 0 0 0 1 0 0 0 ...\n",
      " $ ever_married     : num  1 1 1 1 1 1 1 0 1 1 ...\n",
      " $ Residence_type   : num  1 0 0 1 0 1 0 1 0 1 ...\n",
      " $ avg_glucose_level: num  229 202 106 171 174 ...\n",
      " $ bmi              : num  36.6 28.9 32.5 34.4 24 ...\n",
      " $ smoking_status   : num  30 0 0 50 0 30 0 0 10 10 ...\n",
      " $ stroke           : int  1 1 1 1 1 1 1 1 1 1 ...\n",
      " $ young            : num  0 0 0 0 0 0 0 0 0 0 ...\n",
      " $ work_others      : num  0 0 0 0 0 0 0 0 0 0 ...\n",
      " $ work_self        : num  0 1 0 0 1 0 0 0 0 0 ...\n"
     ]
    },
    {
     "data": {
      "text/html": [
       "<style>\n",
       ".dl-inline {width: auto; margin:0; padding: 0}\n",
       ".dl-inline>dt, .dl-inline>dd {float: none; width: auto; display: inline-block}\n",
       ".dl-inline>dt::after {content: \":\\0020\"; padding-right: .5ex}\n",
       ".dl-inline>dt:not(:first-of-type) {padding-left: .5ex}\n",
       "</style><dl class=dl-inline><dt>gender</dt><dd>FALSE</dd><dt>age</dt><dd>FALSE</dd><dt>hypertension</dt><dd>FALSE</dd><dt>heart_disease</dt><dd>FALSE</dd><dt>ever_married</dt><dd>FALSE</dd><dt>Residence_type</dt><dd>FALSE</dd><dt>avg_glucose_level</dt><dd>FALSE</dd><dt>bmi</dt><dd>FALSE</dd><dt>smoking_status</dt><dd>FALSE</dd><dt>stroke</dt><dd>FALSE</dd><dt>young</dt><dd>FALSE</dd><dt>work_others</dt><dd>FALSE</dd><dt>work_self</dt><dd>FALSE</dd></dl>\n"
      ],
      "text/latex": [
       "\\begin{description*}\n",
       "\\item[gender] FALSE\n",
       "\\item[age] FALSE\n",
       "\\item[hypertension] FALSE\n",
       "\\item[heart\\textbackslash{}\\_disease] FALSE\n",
       "\\item[ever\\textbackslash{}\\_married] FALSE\n",
       "\\item[Residence\\textbackslash{}\\_type] FALSE\n",
       "\\item[avg\\textbackslash{}\\_glucose\\textbackslash{}\\_level] FALSE\n",
       "\\item[bmi] FALSE\n",
       "\\item[smoking\\textbackslash{}\\_status] FALSE\n",
       "\\item[stroke] FALSE\n",
       "\\item[young] FALSE\n",
       "\\item[work\\textbackslash{}\\_others] FALSE\n",
       "\\item[work\\textbackslash{}\\_self] FALSE\n",
       "\\end{description*}\n"
      ],
      "text/markdown": [
       "gender\n",
       ":   FALSEage\n",
       ":   FALSEhypertension\n",
       ":   FALSEheart_disease\n",
       ":   FALSEever_married\n",
       ":   FALSEResidence_type\n",
       ":   FALSEavg_glucose_level\n",
       ":   FALSEbmi\n",
       ":   FALSEsmoking_status\n",
       ":   FALSEstroke\n",
       ":   FALSEyoung\n",
       ":   FALSEwork_others\n",
       ":   FALSEwork_self\n",
       ":   FALSE\n",
       "\n"
      ],
      "text/plain": [
       "           gender               age      hypertension     heart_disease \n",
       "            FALSE             FALSE             FALSE             FALSE \n",
       "     ever_married    Residence_type avg_glucose_level               bmi \n",
       "            FALSE             FALSE             FALSE             FALSE \n",
       "   smoking_status            stroke             young       work_others \n",
       "            FALSE             FALSE             FALSE             FALSE \n",
       "        work_self \n",
       "            FALSE "
      ]
     },
     "metadata": {},
     "output_type": "display_data"
    }
   ],
   "source": [
    "#confirm changes\n",
    "length(data$id)\n",
    "for (i in 1:length(data$id)) {\n",
    "    if (data$stroke[i] >1) {\n",
    "        print(\"wtf!?\")\n",
    "    } \n",
    "}\n",
    "cat(\"drop unused columns\")\n",
    "data <- data[ -c(1,7) ]\n",
    "str(data)\n",
    "apply(data, 2, function(x) any(is.na(x)))"
   ]
  },
  {
   "cell_type": "code",
   "execution_count": 11,
   "id": "brilliant-fellow",
   "metadata": {
    "execution": {
     "iopub.execute_input": "2021-06-14T00:53:56.557161Z",
     "iopub.status.busy": "2021-06-14T00:53:56.555966Z",
     "iopub.status.idle": "2021-06-14T00:53:56.927622Z",
     "shell.execute_reply": "2021-06-14T00:53:56.925658Z"
    },
    "papermill": {
     "duration": 0.413338,
     "end_time": "2021-06-14T00:53:56.927754",
     "exception": false,
     "start_time": "2021-06-14T00:53:56.514416",
     "status": "completed"
    },
    "tags": []
   },
   "outputs": [
    {
     "name": "stdout",
     "output_type": "stream",
     "text": [
      "check the correlations"
     ]
    },
    {
     "data": {
      "image/png": "[encoded data removed]"
     },
     "metadata": {
      "image/png": {
       "height": 420,
       "width": 420
      }
     },
     "output_type": "display_data"
    }
   ],
   "source": [
    "cat(\"check the correlations\")\n",
    "correlations <- cor(data, method = \"pearson\", use = \"complete.obs\")\n",
    "corrplot(correlations, method=\"circle\")"
   ]
  },
  {
   "cell_type": "markdown",
   "id": "acoustic-operator",
   "metadata": {
    "papermill": {
     "duration": 0.040413,
     "end_time": "2021-06-14T00:53:57.009430",
     "exception": false,
     "start_time": "2021-06-14T00:53:56.969017",
     "status": "completed"
    },
    "tags": []
   },
   "source": [
    "\"Young\" are clearly correlated with othesr...  \"ever married\" also a some... let's not consider them."
   ]
  },
  {
   "cell_type": "code",
   "execution_count": 12,
   "id": "champion-neighborhood",
   "metadata": {
    "execution": {
     "iopub.execute_input": "2021-06-14T00:53:57.095426Z",
     "iopub.status.busy": "2021-06-14T00:53:57.094315Z",
     "iopub.status.idle": "2021-06-14T00:53:57.134082Z",
     "shell.execute_reply": "2021-06-14T00:53:57.132488Z"
    },
    "papermill": {
     "duration": 0.084141,
     "end_time": "2021-06-14T00:53:57.134209",
     "exception": false,
     "start_time": "2021-06-14T00:53:57.050068",
     "status": "completed"
    },
    "tags": []
   },
   "outputs": [
    {
     "name": "stdout",
     "output_type": "stream",
     "text": [
      "        age hypertension avg_glucose_level  work_self stroke\n",
      "1 1.0513314   -0.3285697       2.706110617 -0.4368378      1\n",
      "2 0.7859932   -0.3285697       2.121350940  2.2887313      1\n",
      "3 1.6262309   -0.3285697      -0.005027809 -0.4368378      1\n",
      "4 0.2553167   -0.3285697       1.437217451 -0.4368378      1\n",
      "5 1.5820079    3.0428986       1.501037522  2.2887313      1\n",
      "6 1.6704540   -0.3285697       1.768021830 -0.4368378      1\n"
     ]
    }
   ],
   "source": [
    "data1 <- data[,c(\"gender\",\"age\",\"hypertension\",\"heart_disease\",\"Residence_type\",\"avg_glucose_level\",\"bmi\",\"smoking_status\",\"work_others\",\"work_self\",\"stroke\")]\n",
    "#after first run analysis, the focus was decided on this variables\n",
    "data2 <- data[,c(\"age\",\"hypertension\",\"avg_glucose_level\",\"work_self\",\"stroke\")]\n",
    "\n",
    "#normalize data (excep stroke)\n",
    "#data3 <- scale(data1[,c(-11)])\n",
    "data_scaled0 <- scale(data2[,c(-5)])\n",
    "data_scaled <- cbind(data_scaled0, data$stroke)\n",
    "\n",
    "data_scaled <- as.data.frame(data_scaled)\n",
    "data_scaled <- rename(data_scaled,\"stroke\" =  V5)\n",
    "print(head(data_scaled))"
   ]
  },
  {
   "cell_type": "markdown",
   "id": "colored-suicide",
   "metadata": {
    "papermill": {
     "duration": 0.04095,
     "end_time": "2021-06-14T00:53:57.216180",
     "exception": false,
     "start_time": "2021-06-14T00:53:57.175230",
     "status": "completed"
    },
    "tags": []
   },
   "source": [
    "# Nice! Data is great, let's implement ML - be carefull, the stroke is binary!"
   ]
  },
  {
   "cell_type": "markdown",
   "id": "honey-privacy",
   "metadata": {
    "papermill": {
     "duration": 0.040754,
     "end_time": "2021-06-14T00:53:57.298679",
     "exception": false,
     "start_time": "2021-06-14T00:53:57.257925",
     "status": "completed"
    },
    "tags": []
   },
   "source": [
    "# Let's try to use a logistic regression first:"
   ]
  },
  {
   "cell_type": "markdown",
   "id": "superior-juvenile",
   "metadata": {
    "papermill": {
     "duration": 0.040798,
     "end_time": "2021-06-14T00:53:57.380657",
     "exception": false,
     "start_time": "2021-06-14T00:53:57.339859",
     "status": "completed"
    },
    "tags": []
   },
   "source": [
    "**Train Test Split and Scale**"
   ]
  },
  {
   "cell_type": "code",
   "execution_count": 13,
   "id": "lucky-tuesday",
   "metadata": {
    "execution": {
     "iopub.execute_input": "2021-06-14T00:53:57.466260Z",
     "iopub.status.busy": "2021-06-14T00:53:57.465086Z",
     "iopub.status.idle": "2021-06-14T00:53:57.519906Z",
     "shell.execute_reply": "2021-06-14T00:53:57.518524Z"
    },
    "papermill": {
     "duration": 0.098859,
     "end_time": "2021-06-14T00:53:57.520011",
     "exception": false,
     "start_time": "2021-06-14T00:53:57.421152",
     "status": "completed"
    },
    "tags": []
   },
   "outputs": [
    {
     "name": "stdout",
     "output_type": "stream",
     "text": [
      "Train Test split - using caret\n"
     ]
    },
    {
     "data": {
      "text/html": [
       "<table class=\"dataframe\">\n",
       "<caption>A data.frame: 6 × 5</caption>\n",
       "<thead>\n",
       "\t<tr><th></th><th scope=col>age</th><th scope=col>hypertension</th><th scope=col>avg_glucose_level</th><th scope=col>work_self</th><th scope=col>stroke</th></tr>\n",
       "\t<tr><th></th><th scope=col>&lt;dbl&gt;</th><th scope=col>&lt;dbl&gt;</th><th scope=col>&lt;dbl&gt;</th><th scope=col>&lt;dbl&gt;</th><th scope=col>&lt;dbl&gt;</th></tr>\n",
       "</thead>\n",
       "<tbody>\n",
       "\t<tr><th scope=row>1</th><td>1.0513314</td><td>-0.3285697</td><td> 2.7061106</td><td>-0.4368378</td><td>1</td></tr>\n",
       "\t<tr><th scope=row>2</th><td>0.7859932</td><td>-0.3285697</td><td> 2.1213509</td><td> 2.2887313</td><td>1</td></tr>\n",
       "\t<tr><th scope=row>4</th><td>0.2553167</td><td>-0.3285697</td><td> 1.4372175</td><td>-0.4368378</td><td>1</td></tr>\n",
       "\t<tr><th scope=row>5</th><td>1.5820079</td><td> 3.0428986</td><td> 1.5010375</td><td> 2.2887313</td><td>1</td></tr>\n",
       "\t<tr><th scope=row>6</th><td>1.6704540</td><td>-0.3285697</td><td> 1.7680218</td><td>-0.4368378</td><td>1</td></tr>\n",
       "\t<tr><th scope=row>8</th><td>1.1397775</td><td>-0.3285697</td><td>-0.2596456</td><td>-0.4368378</td><td>1</td></tr>\n",
       "</tbody>\n",
       "</table>\n"
      ],
      "text/latex": [
       "A data.frame: 6 × 5\n",
       "\\begin{tabular}{r|lllll}\n",
       "  & age & hypertension & avg\\_glucose\\_level & work\\_self & stroke\\\\\n",
       "  & <dbl> & <dbl> & <dbl> & <dbl> & <dbl>\\\\\n",
       "\\hline\n",
       "\t1 & 1.0513314 & -0.3285697 &  2.7061106 & -0.4368378 & 1\\\\\n",
       "\t2 & 0.7859932 & -0.3285697 &  2.1213509 &  2.2887313 & 1\\\\\n",
       "\t4 & 0.2553167 & -0.3285697 &  1.4372175 & -0.4368378 & 1\\\\\n",
       "\t5 & 1.5820079 &  3.0428986 &  1.5010375 &  2.2887313 & 1\\\\\n",
       "\t6 & 1.6704540 & -0.3285697 &  1.7680218 & -0.4368378 & 1\\\\\n",
       "\t8 & 1.1397775 & -0.3285697 & -0.2596456 & -0.4368378 & 1\\\\\n",
       "\\end{tabular}\n"
      ],
      "text/markdown": [
       "\n",
       "A data.frame: 6 × 5\n",
       "\n",
       "| <!--/--> | age &lt;dbl&gt; | hypertension &lt;dbl&gt; | avg_glucose_level &lt;dbl&gt; | work_self &lt;dbl&gt; | stroke &lt;dbl&gt; |\n",
       "|---|---|---|---|---|---|\n",
       "| 1 | 1.0513314 | -0.3285697 |  2.7061106 | -0.4368378 | 1 |\n",
       "| 2 | 0.7859932 | -0.3285697 |  2.1213509 |  2.2887313 | 1 |\n",
       "| 4 | 0.2553167 | -0.3285697 |  1.4372175 | -0.4368378 | 1 |\n",
       "| 5 | 1.5820079 |  3.0428986 |  1.5010375 |  2.2887313 | 1 |\n",
       "| 6 | 1.6704540 | -0.3285697 |  1.7680218 | -0.4368378 | 1 |\n",
       "| 8 | 1.1397775 | -0.3285697 | -0.2596456 | -0.4368378 | 1 |\n",
       "\n"
      ],
      "text/plain": [
       "  age       hypertension avg_glucose_level work_self  stroke\n",
       "1 1.0513314 -0.3285697    2.7061106        -0.4368378 1     \n",
       "2 0.7859932 -0.3285697    2.1213509         2.2887313 1     \n",
       "4 0.2553167 -0.3285697    1.4372175        -0.4368378 1     \n",
       "5 1.5820079  3.0428986    1.5010375         2.2887313 1     \n",
       "6 1.6704540 -0.3285697    1.7680218        -0.4368378 1     \n",
       "8 1.1397775 -0.3285697   -0.2596456        -0.4368378 1     "
      ]
     },
     "metadata": {},
     "output_type": "display_data"
    },
    {
     "name": "stdout",
     "output_type": "stream",
     "text": [
      "'data.frame':\t3577 obs. of  5 variables:\n",
      " $ age              : num  1.051 0.786 0.255 1.582 1.67 ...\n",
      " $ hypertension     : num  -0.329 -0.329 -0.329 3.043 -0.329 ...\n",
      " $ avg_glucose_level: num  2.71 2.12 1.44 1.5 1.77 ...\n",
      " $ work_self        : num  -0.437 2.289 -0.437 2.289 -0.437 ...\n",
      " $ stroke           : num  1 1 1 1 1 1 1 1 1 1 ...\n"
     ]
    },
    {
     "data": {
      "text/html": [
       "<table class=\"dataframe\">\n",
       "<caption>A data.frame: 6 × 5</caption>\n",
       "<thead>\n",
       "\t<tr><th></th><th scope=col>age</th><th scope=col>hypertension</th><th scope=col>avg_glucose_level</th><th scope=col>work_self</th><th scope=col>stroke</th></tr>\n",
       "\t<tr><th></th><th scope=col>&lt;dbl&gt;</th><th scope=col>&lt;dbl&gt;</th><th scope=col>&lt;dbl&gt;</th><th scope=col>&lt;dbl&gt;</th><th scope=col>&lt;dbl&gt;</th></tr>\n",
       "</thead>\n",
       "<tbody>\n",
       "\t<tr><th scope=row>3</th><td>1.6262309</td><td>-0.3285697</td><td>-0.005027809</td><td>-0.4368378</td><td>1</td></tr>\n",
       "\t<tr><th scope=row>7</th><td>1.3608927</td><td> 3.0428986</td><td>-0.796264185</td><td>-0.4368378</td><td>1</td></tr>\n",
       "\t<tr><th scope=row>12</th><td>0.7859932</td><td>-0.3285697</td><td> 0.316060019</td><td>-0.4368378</td><td>1</td></tr>\n",
       "\t<tr><th scope=row>22</th><td>0.3879858</td><td> 3.0428986</td><td> 2.807692736</td><td> 2.2887313</td><td>1</td></tr>\n",
       "\t<tr><th scope=row>27</th><td>0.9628853</td><td>-0.3285697</td><td>-0.114118172</td><td>-0.4368378</td><td>1</td></tr>\n",
       "\t<tr><th scope=row>31</th><td>0.6091010</td><td> 3.0428986</td><td> 2.339310835</td><td>-0.4368378</td><td>1</td></tr>\n",
       "</tbody>\n",
       "</table>\n"
      ],
      "text/latex": [
       "A data.frame: 6 × 5\n",
       "\\begin{tabular}{r|lllll}\n",
       "  & age & hypertension & avg\\_glucose\\_level & work\\_self & stroke\\\\\n",
       "  & <dbl> & <dbl> & <dbl> & <dbl> & <dbl>\\\\\n",
       "\\hline\n",
       "\t3 & 1.6262309 & -0.3285697 & -0.005027809 & -0.4368378 & 1\\\\\n",
       "\t7 & 1.3608927 &  3.0428986 & -0.796264185 & -0.4368378 & 1\\\\\n",
       "\t12 & 0.7859932 & -0.3285697 &  0.316060019 & -0.4368378 & 1\\\\\n",
       "\t22 & 0.3879858 &  3.0428986 &  2.807692736 &  2.2887313 & 1\\\\\n",
       "\t27 & 0.9628853 & -0.3285697 & -0.114118172 & -0.4368378 & 1\\\\\n",
       "\t31 & 0.6091010 &  3.0428986 &  2.339310835 & -0.4368378 & 1\\\\\n",
       "\\end{tabular}\n"
      ],
      "text/markdown": [
       "\n",
       "A data.frame: 6 × 5\n",
       "\n",
       "| <!--/--> | age &lt;dbl&gt; | hypertension &lt;dbl&gt; | avg_glucose_level &lt;dbl&gt; | work_self &lt;dbl&gt; | stroke &lt;dbl&gt; |\n",
       "|---|---|---|---|---|---|\n",
       "| 3 | 1.6262309 | -0.3285697 | -0.005027809 | -0.4368378 | 1 |\n",
       "| 7 | 1.3608927 |  3.0428986 | -0.796264185 | -0.4368378 | 1 |\n",
       "| 12 | 0.7859932 | -0.3285697 |  0.316060019 | -0.4368378 | 1 |\n",
       "| 22 | 0.3879858 |  3.0428986 |  2.807692736 |  2.2887313 | 1 |\n",
       "| 27 | 0.9628853 | -0.3285697 | -0.114118172 | -0.4368378 | 1 |\n",
       "| 31 | 0.6091010 |  3.0428986 |  2.339310835 | -0.4368378 | 1 |\n",
       "\n"
      ],
      "text/plain": [
       "   age       hypertension avg_glucose_level work_self  stroke\n",
       "3  1.6262309 -0.3285697   -0.005027809      -0.4368378 1     \n",
       "7  1.3608927  3.0428986   -0.796264185      -0.4368378 1     \n",
       "12 0.7859932 -0.3285697    0.316060019      -0.4368378 1     \n",
       "22 0.3879858  3.0428986    2.807692736       2.2887313 1     \n",
       "27 0.9628853 -0.3285697   -0.114118172      -0.4368378 1     \n",
       "31 0.6091010  3.0428986    2.339310835      -0.4368378 1     "
      ]
     },
     "metadata": {},
     "output_type": "display_data"
    },
    {
     "name": "stdout",
     "output_type": "stream",
     "text": [
      "'data.frame':\t1533 obs. of  5 variables:\n",
      " $ age              : num  1.626 1.361 0.786 0.388 0.963 ...\n",
      " $ hypertension     : num  -0.329 3.043 -0.329 3.043 -0.329 ...\n",
      " $ avg_glucose_level: num  -0.00503 -0.79626 0.31606 2.80769 -0.11412 ...\n",
      " $ work_self        : num  -0.437 -0.437 -0.437 2.289 -0.437 ...\n",
      " $ stroke           : num  1 1 1 1 1 1 1 1 1 1 ...\n"
     ]
    }
   ],
   "source": [
    "cat(\"Train Test split - using caret\\n\")\n",
    "trainIndex <- createDataPartition(data_scaled$stroke, p = 0.7, \n",
    "                                  list = FALSE, \n",
    "                                  times = 1)\n",
    "dataTrain0 <- data_scaled[ trainIndex,]\n",
    "dataTest  <- data_scaled[-trainIndex,]\n",
    "head(dataTrain0)\n",
    "str(dataTrain0)\n",
    "head(dataTest)\n",
    "str(dataTest)"
   ]
  },
  {
   "cell_type": "markdown",
   "id": "sized-junior",
   "metadata": {
    "papermill": {
     "duration": 0.042557,
     "end_time": "2021-06-14T00:53:57.605264",
     "exception": false,
     "start_time": "2021-06-14T00:53:57.562707",
     "status": "completed"
    },
    "tags": []
   },
   "source": [
    "**Balance Data**"
   ]
  },
  {
   "cell_type": "code",
   "execution_count": 14,
   "id": "upper-hopkins",
   "metadata": {
    "execution": {
     "iopub.execute_input": "2021-06-14T00:53:57.694251Z",
     "iopub.status.busy": "2021-06-14T00:53:57.693464Z",
     "iopub.status.idle": "2021-06-14T00:53:57.725796Z",
     "shell.execute_reply": "2021-06-14T00:53:57.725195Z"
    },
    "papermill": {
     "duration": 0.078372,
     "end_time": "2021-06-14T00:53:57.726003",
     "exception": false,
     "start_time": "2021-06-14T00:53:57.647631",
     "status": "completed"
    },
    "tags": []
   },
   "outputs": [
    {
     "name": "stdout",
     "output_type": "stream",
     "text": [
      "Balance (train) data by oversampling. From 5% do 30%\n",
      "'data.frame':\t4865 obs. of  5 variables:\n",
      " $ age              : num  0.653 -1.558 -1.292 0.167 1.405 ...\n",
      " $ hypertension     : num  3.043 -0.329 -0.329 -0.329 -0.329 ...\n",
      " $ avg_glucose_level: num  -0.402 0.105 1.217 2.314 3.034 ...\n",
      " $ work_self        : num  -0.437 -0.437 -0.437 -0.437 2.289 ...\n",
      " $ stroke           : num  0 0 0 0 0 0 0 0 0 0 ...\n"
     ]
    }
   ],
   "source": [
    "cat(\"Balance (train) data by oversampling. From 5% do 30%\\n\")\n",
    "dataTrain <- ovun.sample(as.factor(stroke)~.,data = dataTrain0, method = 'over',p = 0.3)$data\n",
    "str(dataTrain)"
   ]
  },
  {
   "cell_type": "markdown",
   "id": "animated-policy",
   "metadata": {
    "papermill": {
     "duration": 0.065514,
     "end_time": "2021-06-14T00:53:57.857107",
     "exception": false,
     "start_time": "2021-06-14T00:53:57.791593",
     "status": "completed"
    },
    "tags": []
   },
   "source": [
    "**Run Model**"
   ]
  },
  {
   "cell_type": "code",
   "execution_count": 15,
   "id": "eleven-semester",
   "metadata": {
    "execution": {
     "iopub.execute_input": "2021-06-14T00:53:57.992339Z",
     "iopub.status.busy": "2021-06-14T00:53:57.991536Z",
     "iopub.status.idle": "2021-06-14T00:53:58.022017Z",
     "shell.execute_reply": "2021-06-14T00:53:58.020894Z"
    },
    "papermill": {
     "duration": 0.099274,
     "end_time": "2021-06-14T00:53:58.022165",
     "exception": false,
     "start_time": "2021-06-14T00:53:57.922891",
     "status": "completed"
    },
    "tags": []
   },
   "outputs": [],
   "source": [
    "logit_2 <- glm(stroke~., family = binomial,data = dataTrain)"
   ]
  },
  {
   "cell_type": "code",
   "execution_count": 16,
   "id": "enhanced-luther",
   "metadata": {
    "execution": {
     "iopub.execute_input": "2021-06-14T00:53:58.178750Z",
     "iopub.status.busy": "2021-06-14T00:53:58.177967Z",
     "iopub.status.idle": "2021-06-14T00:53:58.206514Z",
     "shell.execute_reply": "2021-06-14T00:53:58.205035Z"
    },
    "papermill": {
     "duration": 0.103449,
     "end_time": "2021-06-14T00:53:58.206668",
     "exception": false,
     "start_time": "2021-06-14T00:53:58.103219",
     "status": "completed"
    },
    "tags": []
   },
   "outputs": [
    {
     "data": {
      "text/plain": [
       "\n",
       "Call:\n",
       "glm(formula = stroke ~ ., family = binomial, data = dataTrain)\n",
       "\n",
       "Deviance Residuals: \n",
       "    Min       1Q   Median       3Q      Max  \n",
       "-2.0157  -0.7053  -0.2954   0.7655   3.1797  \n",
       "\n",
       "Coefficients:\n",
       "                  Estimate Std. Error z value Pr(>|z|)    \n",
       "(Intercept)       -1.89400    0.06050 -31.308  < 2e-16 ***\n",
       "age                1.61301    0.05948  27.120  < 2e-16 ***\n",
       "hypertension       0.13666    0.02863   4.773 1.81e-06 ***\n",
       "avg_glucose_level  0.20896    0.03017   6.927 4.30e-12 ***\n",
       "work_self         -0.10161    0.03378  -3.008  0.00263 ** \n",
       "---\n",
       "Signif. codes:  0 ‘***’ 0.001 ‘**’ 0.01 ‘*’ 0.05 ‘.’ 0.1 ‘ ’ 1\n",
       "\n",
       "(Dispersion parameter for binomial family taken to be 1)\n",
       "\n",
       "    Null deviance: 5949.6  on 4864  degrees of freedom\n",
       "Residual deviance: 4301.2  on 4860  degrees of freedom\n",
       "AIC: 4311.2\n",
       "\n",
       "Number of Fisher Scoring iterations: 5\n"
      ]
     },
     "metadata": {},
     "output_type": "display_data"
    },
    {
     "data": {
      "text/plain": [
       "    Min.  1st Qu.   Median     Mean  3rd Qu.     Max. \n",
       "0.005556 0.059791 0.232703 0.300719 0.532186 0.873094 "
      ]
     },
     "metadata": {},
     "output_type": "display_data"
    }
   ],
   "source": [
    "summary(logit_2)\n",
    "summary(logit_2$fitted.values)"
   ]
  },
  {
   "cell_type": "code",
   "execution_count": 17,
   "id": "painful-lemon",
   "metadata": {
    "execution": {
     "iopub.execute_input": "2021-06-14T00:53:58.344644Z",
     "iopub.status.busy": "2021-06-14T00:53:58.343932Z",
     "iopub.status.idle": "2021-06-14T00:53:58.389765Z",
     "shell.execute_reply": "2021-06-14T00:53:58.388891Z"
    },
    "papermill": {
     "duration": 0.11573,
     "end_time": "2021-06-14T00:53:58.389884",
     "exception": false,
     "start_time": "2021-06-14T00:53:58.274154",
     "status": "completed"
    },
    "tags": []
   },
   "outputs": [
    {
     "name": "stdout",
     "output_type": "stream",
     "text": [
      "Predict on Train"
     ]
    },
    {
     "data": {
      "text/html": [
       "2336"
      ],
      "text/latex": [
       "2336"
      ],
      "text/markdown": [
       "2336"
      ],
      "text/plain": [
       "[1] 2336"
      ]
     },
     "metadata": {},
     "output_type": "display_data"
    },
    {
     "data": {
      "text/html": [
       "4865"
      ],
      "text/latex": [
       "4865"
      ],
      "text/markdown": [
       "4865"
      ],
      "text/plain": [
       "[1] 4865"
      ]
     },
     "metadata": {},
     "output_type": "display_data"
    },
    {
     "data": {
      "text/html": [
       "<style>\n",
       ".dl-inline {width: auto; margin:0; padding: 0}\n",
       ".dl-inline>dt, .dl-inline>dd {float: none; width: auto; display: inline-block}\n",
       ".dl-inline>dt::after {content: \":\\0020\"; padding-right: .5ex}\n",
       ".dl-inline>dt:not(:first-of-type) {padding-left: .5ex}\n",
       "</style><dl class=dl-inline><dt>1</dt><dd>1</dd><dt>2</dt><dd>0</dd><dt>3</dt><dd>0</dd><dt>4</dt><dd>0</dd><dt>5</dt><dd>1</dd><dt>6</dt><dd>0</dd><dt>7</dt><dd>1</dd><dt>8</dt><dd>1</dd><dt>9</dt><dd>1</dd><dt>10</dt><dd>0</dd><dt>11</dt><dd>0</dd><dt>12</dt><dd>0</dd><dt>13</dt><dd>0</dd><dt>14</dt><dd>1</dd><dt>15</dt><dd>1</dd><dt>16</dt><dd>1</dd><dt>17</dt><dd>1</dd><dt>18</dt><dd>0</dd><dt>19</dt><dd>1</dd><dt>20</dt><dd>0</dd><dt>21</dt><dd>1</dd><dt>22</dt><dd>0</dd><dt>23</dt><dd>1</dd><dt>24</dt><dd>0</dd><dt>25</dt><dd>0</dd><dt>26</dt><dd>0</dd><dt>27</dt><dd>0</dd><dt>28</dt><dd>0</dd><dt>29</dt><dd>0</dd><dt>30</dt><dd>1</dd><dt>31</dt><dd>1</dd><dt>32</dt><dd>1</dd><dt>33</dt><dd>1</dd><dt>34</dt><dd>0</dd><dt>35</dt><dd>0</dd><dt>36</dt><dd>1</dd><dt>37</dt><dd>0</dd><dt>38</dt><dd>1</dd><dt>39</dt><dd>0</dd><dt>40</dt><dd>0</dd><dt>41</dt><dd>1</dd><dt>42</dt><dd>0</dd><dt>43</dt><dd>1</dd><dt>44</dt><dd>1</dd><dt>45</dt><dd>0</dd><dt>46</dt><dd>1</dd><dt>47</dt><dd>0</dd><dt>48</dt><dd>0</dd><dt>49</dt><dd>0</dd><dt>50</dt><dd>0</dd></dl>\n"
      ],
      "text/latex": [
       "\\begin{description*}\n",
       "\\item[1] 1\n",
       "\\item[2] 0\n",
       "\\item[3] 0\n",
       "\\item[4] 0\n",
       "\\item[5] 1\n",
       "\\item[6] 0\n",
       "\\item[7] 1\n",
       "\\item[8] 1\n",
       "\\item[9] 1\n",
       "\\item[10] 0\n",
       "\\item[11] 0\n",
       "\\item[12] 0\n",
       "\\item[13] 0\n",
       "\\item[14] 1\n",
       "\\item[15] 1\n",
       "\\item[16] 1\n",
       "\\item[17] 1\n",
       "\\item[18] 0\n",
       "\\item[19] 1\n",
       "\\item[20] 0\n",
       "\\item[21] 1\n",
       "\\item[22] 0\n",
       "\\item[23] 1\n",
       "\\item[24] 0\n",
       "\\item[25] 0\n",
       "\\item[26] 0\n",
       "\\item[27] 0\n",
       "\\item[28] 0\n",
       "\\item[29] 0\n",
       "\\item[30] 1\n",
       "\\item[31] 1\n",
       "\\item[32] 1\n",
       "\\item[33] 1\n",
       "\\item[34] 0\n",
       "\\item[35] 0\n",
       "\\item[36] 1\n",
       "\\item[37] 0\n",
       "\\item[38] 1\n",
       "\\item[39] 0\n",
       "\\item[40] 0\n",
       "\\item[41] 1\n",
       "\\item[42] 0\n",
       "\\item[43] 1\n",
       "\\item[44] 1\n",
       "\\item[45] 0\n",
       "\\item[46] 1\n",
       "\\item[47] 0\n",
       "\\item[48] 0\n",
       "\\item[49] 0\n",
       "\\item[50] 0\n",
       "\\end{description*}\n"
      ],
      "text/markdown": [
       "1\n",
       ":   12\n",
       ":   03\n",
       ":   04\n",
       ":   05\n",
       ":   16\n",
       ":   07\n",
       ":   18\n",
       ":   19\n",
       ":   110\n",
       ":   011\n",
       ":   012\n",
       ":   013\n",
       ":   014\n",
       ":   115\n",
       ":   116\n",
       ":   117\n",
       ":   118\n",
       ":   019\n",
       ":   120\n",
       ":   021\n",
       ":   122\n",
       ":   023\n",
       ":   124\n",
       ":   025\n",
       ":   026\n",
       ":   027\n",
       ":   028\n",
       ":   029\n",
       ":   030\n",
       ":   131\n",
       ":   132\n",
       ":   133\n",
       ":   134\n",
       ":   035\n",
       ":   036\n",
       ":   137\n",
       ":   038\n",
       ":   139\n",
       ":   040\n",
       ":   041\n",
       ":   142\n",
       ":   043\n",
       ":   144\n",
       ":   145\n",
       ":   046\n",
       ":   147\n",
       ":   048\n",
       ":   049\n",
       ":   050\n",
       ":   0\n",
       "\n"
      ],
      "text/plain": [
       " 1  2  3  4  5  6  7  8  9 10 11 12 13 14 15 16 17 18 19 20 21 22 23 24 25 26 \n",
       " 1  0  0  0  1  0  1  1  1  0  0  0  0  1  1  1  1  0  1  0  1  0  1  0  0  0 \n",
       "27 28 29 30 31 32 33 34 35 36 37 38 39 40 41 42 43 44 45 46 47 48 49 50 \n",
       " 0  0  0  1  1  1  1  0  0  1  0  1  0  0  1  0  1  1  0  1  0  0  0  0 "
      ]
     },
     "metadata": {},
     "output_type": "display_data"
    },
    {
     "name": "stdout",
     "output_type": "stream",
     "text": [
      "Predict on Test"
     ]
    },
    {
     "data": {
      "text/html": [
       "552"
      ],
      "text/latex": [
       "552"
      ],
      "text/markdown": [
       "552"
      ],
      "text/plain": [
       "[1] 552"
      ]
     },
     "metadata": {},
     "output_type": "display_data"
    },
    {
     "data": {
      "text/html": [
       "1533"
      ],
      "text/latex": [
       "1533"
      ],
      "text/markdown": [
       "1533"
      ],
      "text/plain": [
       "[1] 1533"
      ]
     },
     "metadata": {},
     "output_type": "display_data"
    },
    {
     "data": {
      "text/html": [
       "<style>\n",
       ".dl-inline {width: auto; margin:0; padding: 0}\n",
       ".dl-inline>dt, .dl-inline>dd {float: none; width: auto; display: inline-block}\n",
       ".dl-inline>dt::after {content: \":\\0020\"; padding-right: .5ex}\n",
       ".dl-inline>dt:not(:first-of-type) {padding-left: .5ex}\n",
       "</style><dl class=dl-inline><dt>3</dt><dd>1</dd><dt>7</dt><dd>1</dd><dt>12</dt><dd>1</dd><dt>22</dt><dd>1</dd><dt>27</dt><dd>1</dd><dt>31</dt><dd>1</dd><dt>33</dt><dd>1</dd><dt>39</dt><dd>1</dd><dt>42</dt><dd>0</dd><dt>47</dt><dd>1</dd><dt>51</dt><dd>1</dd><dt>52</dt><dd>1</dd><dt>60</dt><dd>1</dd><dt>62</dt><dd>1</dd><dt>69</dt><dd>1</dd><dt>72</dt><dd>1</dd><dt>74</dt><dd>1</dd><dt>78</dt><dd>1</dd><dt>81</dt><dd>1</dd><dt>83</dt><dd>1</dd><dt>88</dt><dd>1</dd><dt>91</dt><dd>1</dd><dt>96</dt><dd>1</dd><dt>102</dt><dd>1</dd><dt>104</dt><dd>1</dd><dt>105</dt><dd>1</dd><dt>106</dt><dd>1</dd><dt>108</dt><dd>1</dd><dt>113</dt><dd>1</dd><dt>116</dt><dd>1</dd><dt>117</dt><dd>1</dd><dt>120</dt><dd>1</dd><dt>121</dt><dd>1</dd><dt>127</dt><dd>1</dd><dt>133</dt><dd>1</dd><dt>134</dt><dd>0</dd><dt>137</dt><dd>1</dd><dt>138</dt><dd>1</dd><dt>140</dt><dd>1</dd><dt>144</dt><dd>1</dd><dt>147</dt><dd>1</dd><dt>150</dt><dd>1</dd><dt>151</dt><dd>1</dd><dt>154</dt><dd>1</dd><dt>157</dt><dd>0</dd><dt>160</dt><dd>1</dd><dt>165</dt><dd>1</dd><dt>166</dt><dd>1</dd><dt>168</dt><dd>1</dd><dt>169</dt><dd>1</dd></dl>\n"
      ],
      "text/latex": [
       "\\begin{description*}\n",
       "\\item[3] 1\n",
       "\\item[7] 1\n",
       "\\item[12] 1\n",
       "\\item[22] 1\n",
       "\\item[27] 1\n",
       "\\item[31] 1\n",
       "\\item[33] 1\n",
       "\\item[39] 1\n",
       "\\item[42] 0\n",
       "\\item[47] 1\n",
       "\\item[51] 1\n",
       "\\item[52] 1\n",
       "\\item[60] 1\n",
       "\\item[62] 1\n",
       "\\item[69] 1\n",
       "\\item[72] 1\n",
       "\\item[74] 1\n",
       "\\item[78] 1\n",
       "\\item[81] 1\n",
       "\\item[83] 1\n",
       "\\item[88] 1\n",
       "\\item[91] 1\n",
       "\\item[96] 1\n",
       "\\item[102] 1\n",
       "\\item[104] 1\n",
       "\\item[105] 1\n",
       "\\item[106] 1\n",
       "\\item[108] 1\n",
       "\\item[113] 1\n",
       "\\item[116] 1\n",
       "\\item[117] 1\n",
       "\\item[120] 1\n",
       "\\item[121] 1\n",
       "\\item[127] 1\n",
       "\\item[133] 1\n",
       "\\item[134] 0\n",
       "\\item[137] 1\n",
       "\\item[138] 1\n",
       "\\item[140] 1\n",
       "\\item[144] 1\n",
       "\\item[147] 1\n",
       "\\item[150] 1\n",
       "\\item[151] 1\n",
       "\\item[154] 1\n",
       "\\item[157] 0\n",
       "\\item[160] 1\n",
       "\\item[165] 1\n",
       "\\item[166] 1\n",
       "\\item[168] 1\n",
       "\\item[169] 1\n",
       "\\end{description*}\n"
      ],
      "text/markdown": [
       "3\n",
       ":   17\n",
       ":   112\n",
       ":   122\n",
       ":   127\n",
       ":   131\n",
       ":   133\n",
       ":   139\n",
       ":   142\n",
       ":   047\n",
       ":   151\n",
       ":   152\n",
       ":   160\n",
       ":   162\n",
       ":   169\n",
       ":   172\n",
       ":   174\n",
       ":   178\n",
       ":   181\n",
       ":   183\n",
       ":   188\n",
       ":   191\n",
       ":   196\n",
       ":   1102\n",
       ":   1104\n",
       ":   1105\n",
       ":   1106\n",
       ":   1108\n",
       ":   1113\n",
       ":   1116\n",
       ":   1117\n",
       ":   1120\n",
       ":   1121\n",
       ":   1127\n",
       ":   1133\n",
       ":   1134\n",
       ":   0137\n",
       ":   1138\n",
       ":   1140\n",
       ":   1144\n",
       ":   1147\n",
       ":   1150\n",
       ":   1151\n",
       ":   1154\n",
       ":   1157\n",
       ":   0160\n",
       ":   1165\n",
       ":   1166\n",
       ":   1168\n",
       ":   1169\n",
       ":   1\n",
       "\n"
      ],
      "text/plain": [
       "  3   7  12  22  27  31  33  39  42  47  51  52  60  62  69  72  74  78  81  83 \n",
       "  1   1   1   1   1   1   1   1   0   1   1   1   1   1   1   1   1   1   1   1 \n",
       " 88  91  96 102 104 105 106 108 113 116 117 120 121 127 133 134 137 138 140 144 \n",
       "  1   1   1   1   1   1   1   1   1   1   1   1   1   1   1   0   1   1   1   1 \n",
       "147 150 151 154 157 160 165 166 168 169 \n",
       "  1   1   1   1   0   1   1   1   1   1 "
      ]
     },
     "metadata": {},
     "output_type": "display_data"
    }
   ],
   "source": [
    "cat(\"Predict on Train\")\n",
    "pred_train0 <- predict(logit_2, type = \"response\")\n",
    "pred_train <- ifelse(pred_train0 >0.25,1,0)\n",
    "sum(pred_train)\n",
    "#how they look\n",
    "length(pred_train)\n",
    "head(pred_train,50)\n",
    "\n",
    "cat(\"Predict on Test\")\n",
    "pred_test0 <- predict(logit_2, newdata = dataTest, type = \"response\")\n",
    "pred_test <- ifelse(pred_test0 >0.25,1,0)\n",
    "sum(pred_test)\n",
    "#how they look\n",
    "length(pred_test)\n",
    "head(pred_test,50)"
   ]
  },
  {
   "cell_type": "code",
   "execution_count": 18,
   "id": "ultimate-driving",
   "metadata": {
    "execution": {
     "iopub.execute_input": "2021-06-14T00:53:58.492536Z",
     "iopub.status.busy": "2021-06-14T00:53:58.491275Z",
     "iopub.status.idle": "2021-06-14T00:53:58.608943Z",
     "shell.execute_reply": "2021-06-14T00:53:58.608480Z"
    },
    "papermill": {
     "duration": 0.17179,
     "end_time": "2021-06-14T00:53:58.609038",
     "exception": false,
     "start_time": "2021-06-14T00:53:58.437248",
     "status": "completed"
    },
    "tags": []
   },
   "outputs": [
    {
     "data": {
      "image/png": "[encoded data removed]"
     },
     "metadata": {
      "image/png": {
       "height": 420,
       "width": 420
      }
     },
     "output_type": "display_data"
    }
   ],
   "source": [
    "#Confusion Matrix\n",
    "a1 <- table(Predictions = pred_train, TrueLabels = dataTrain$stroke)\n",
    "fourfoldplot(a1, color = c(\"#CC6666\", \"#99CC99\"),\n",
    "             conf.level = 0, margin = 1, main = \"Confusion Matrix - Train\")"
   ]
  },
  {
   "cell_type": "code",
   "execution_count": 19,
   "id": "controversial-evening",
   "metadata": {
    "execution": {
     "iopub.execute_input": "2021-06-14T00:53:58.710018Z",
     "iopub.status.busy": "2021-06-14T00:53:58.709403Z",
     "iopub.status.idle": "2021-06-14T00:53:58.733562Z",
     "shell.execute_reply": "2021-06-14T00:53:58.732532Z"
    },
    "papermill": {
     "duration": 0.076418,
     "end_time": "2021-06-14T00:53:58.733667",
     "exception": false,
     "start_time": "2021-06-14T00:53:58.657249",
     "status": "completed"
    },
    "tags": []
   },
   "outputs": [
    {
     "name": "stdout",
     "output_type": "stream",
     "text": [
      "Accuracy =  0.7280576\n",
      "Precision =  0.5299658\n",
      "Recall =  0.8462064\n",
      "F1 score =  0.6517505"
     ]
    }
   ],
   "source": [
    "#Accuracy\n",
    "acc1 <- ( a1[2,2] + a1[1,1] ) / (length(dataTrain$stroke))\n",
    "cat(\"Accuracy = \",acc1 )\n",
    "#F1\n",
    "Precision1 =  a1[2,2] / ( a1[2,2] + a1[2,1] )\n",
    "cat(\"\\nPrecision = \",Precision1 )\n",
    "Recall1 =  a1[2,2] / ( a1[2,2] + a1[1,2] )\n",
    "cat(\"\\nRecall = \",Recall1 )\n",
    "F1score1  = 2*(Recall1 * Precision1) / (Recall1 + Precision1)\n",
    "cat(\"\\nF1 score = \",F1score1 )"
   ]
  },
  {
   "cell_type": "code",
   "execution_count": 20,
   "id": "based-glossary",
   "metadata": {
    "execution": {
     "iopub.execute_input": "2021-06-14T00:53:58.838191Z",
     "iopub.status.busy": "2021-06-14T00:53:58.836409Z",
     "iopub.status.idle": "2021-06-14T00:53:58.923020Z",
     "shell.execute_reply": "2021-06-14T00:53:58.922537Z"
    },
    "papermill": {
     "duration": 0.139454,
     "end_time": "2021-06-14T00:53:58.923115",
     "exception": false,
     "start_time": "2021-06-14T00:53:58.783661",
     "status": "completed"
    },
    "tags": []
   },
   "outputs": [
    {
     "data": {
      "image/png": "[encoded data removed]"
     },
     "metadata": {
      "image/png": {
       "height": 420,
       "width": 420
      }
     },
     "output_type": "display_data"
    }
   ],
   "source": [
    "#Confusion Matrix\n",
    "b1 <- table(Predictions = pred_test, TrueLabels = dataTest$stroke)\n",
    "fourfoldplot(b1, color = c(\"#CC6666\", \"#99CC99\"),\n",
    "             conf.level = 0, margin = 1, main = \"Confusion Matrix - Test\")"
   ]
  },
  {
   "cell_type": "code",
   "execution_count": 21,
   "id": "herbal-encoding",
   "metadata": {
    "execution": {
     "iopub.execute_input": "2021-06-14T00:53:59.028728Z",
     "iopub.status.busy": "2021-06-14T00:53:59.027431Z",
     "iopub.status.idle": "2021-06-14T00:53:59.054677Z",
     "shell.execute_reply": "2021-06-14T00:53:59.053536Z"
    },
    "papermill": {
     "duration": 0.08145,
     "end_time": "2021-06-14T00:53:59.054910",
     "exception": false,
     "start_time": "2021-06-14T00:53:58.973460",
     "status": "completed"
    },
    "tags": []
   },
   "outputs": [
    {
     "name": "stdout",
     "output_type": "stream",
     "text": [
      "Accuracy =  0.6816699\n",
      "Precision =  0.125\n",
      "Recall =  0.9324324\n",
      "F1 score =  0.2204473"
     ]
    }
   ],
   "source": [
    "#Accuracy\n",
    "acc1 <- ( b1[2,2] + b1[1,1] ) / (length(dataTest$stroke))\n",
    "cat(\"Accuracy = \",acc1 )\n",
    "#F1\n",
    "Precision1 =  b1[2,2] / ( b1[2,2] + b1[2,1] )\n",
    "cat(\"\\nPrecision = \",Precision1 )\n",
    "Recall1 =  b1[2,2] / ( b1[2,2] + b1[1,2] )\n",
    "cat(\"\\nRecall = \",Recall1 )\n",
    "F1score1  = 2*(Recall1 * Precision1) / (Recall1 + Precision1)\n",
    "cat(\"\\nF1 score = \",F1score1 )"
   ]
  },
  {
   "cell_type": "markdown",
   "id": "major-mystery",
   "metadata": {
    "papermill": {
     "duration": 0.078329,
     "end_time": "2021-06-14T00:53:59.211220",
     "exception": false,
     "start_time": "2021-06-14T00:53:59.132891",
     "status": "completed"
    },
    "tags": []
   },
   "source": [
    "F1 score reasonable for the Train set, but very bad for Test set... Data might have become overfitted because of oversampling."
   ]
  },
  {
   "cell_type": "markdown",
   "id": "incorporate-lewis",
   "metadata": {
    "papermill": {
     "duration": 0.076887,
     "end_time": "2021-06-14T00:53:59.367082",
     "exception": false,
     "start_time": "2021-06-14T00:53:59.290195",
     "status": "completed"
    },
    "tags": []
   },
   "source": [
    "# Let's try to improve using Random Forest:"
   ]
  },
  {
   "cell_type": "markdown",
   "id": "dress-valuation",
   "metadata": {
    "papermill": {
     "duration": 0.078628,
     "end_time": "2021-06-14T00:53:59.523237",
     "exception": false,
     "start_time": "2021-06-14T00:53:59.444609",
     "status": "completed"
    },
    "tags": []
   },
   "source": [
    "Transform data back to categorical - Random Forest can and should dealt with it"
   ]
  },
  {
   "cell_type": "code",
   "execution_count": 22,
   "id": "powered-arnold",
   "metadata": {
    "execution": {
     "iopub.execute_input": "2021-06-14T00:53:59.681563Z",
     "iopub.status.busy": "2021-06-14T00:53:59.680310Z",
     "iopub.status.idle": "2021-06-14T00:53:59.700375Z",
     "shell.execute_reply": "2021-06-14T00:53:59.699319Z"
    },
    "papermill": {
     "duration": 0.100562,
     "end_time": "2021-06-14T00:53:59.700496",
     "exception": false,
     "start_time": "2021-06-14T00:53:59.599934",
     "status": "completed"
    },
    "tags": []
   },
   "outputs": [
    {
     "name": "stdout",
     "output_type": "stream",
     "text": [
      "Train Test split - using caret\n"
     ]
    }
   ],
   "source": [
    "cat(\"Train Test split - using caret\\n\")\n",
    "data2$hypertension <- as.factor(data2$hypertension)\n",
    "data2$work_self <- as.factor(data2$work_self)\n",
    "data2$stroke <- as.factor(data2$stroke)"
   ]
  },
  {
   "cell_type": "markdown",
   "id": "related-trunk",
   "metadata": {
    "papermill": {
     "duration": 0.077102,
     "end_time": "2021-06-14T00:53:59.855079",
     "exception": false,
     "start_time": "2021-06-14T00:53:59.777977",
     "status": "completed"
    },
    "tags": []
   },
   "source": [
    "**Train Test Split**"
   ]
  },
  {
   "cell_type": "code",
   "execution_count": 23,
   "id": "drawn-darkness",
   "metadata": {
    "execution": {
     "iopub.execute_input": "2021-06-14T00:54:00.013844Z",
     "iopub.status.busy": "2021-06-14T00:54:00.012523Z",
     "iopub.status.idle": "2021-06-14T00:54:00.060531Z",
     "shell.execute_reply": "2021-06-14T00:54:00.058864Z"
    },
    "papermill": {
     "duration": 0.128562,
     "end_time": "2021-06-14T00:54:00.060659",
     "exception": false,
     "start_time": "2021-06-14T00:53:59.932097",
     "status": "completed"
    },
    "tags": []
   },
   "outputs": [
    {
     "name": "stdout",
     "output_type": "stream",
     "text": [
      "Train Test split - using caret\n"
     ]
    },
    {
     "data": {
      "text/html": [
       "<table class=\"dataframe\">\n",
       "<caption>A data.frame: 6 × 5</caption>\n",
       "<thead>\n",
       "\t<tr><th></th><th scope=col>age</th><th scope=col>hypertension</th><th scope=col>avg_glucose_level</th><th scope=col>work_self</th><th scope=col>stroke</th></tr>\n",
       "\t<tr><th></th><th scope=col>&lt;dbl&gt;</th><th scope=col>&lt;fct&gt;</th><th scope=col>&lt;dbl&gt;</th><th scope=col>&lt;fct&gt;</th><th scope=col>&lt;fct&gt;</th></tr>\n",
       "</thead>\n",
       "<tbody>\n",
       "\t<tr><th scope=row>1</th><td>67</td><td>0</td><td>228.69</td><td>0</td><td>1</td></tr>\n",
       "\t<tr><th scope=row>3</th><td>80</td><td>0</td><td>105.92</td><td>0</td><td>1</td></tr>\n",
       "\t<tr><th scope=row>5</th><td>79</td><td>1</td><td>174.12</td><td>1</td><td>1</td></tr>\n",
       "\t<tr><th scope=row>7</th><td>74</td><td>1</td><td> 70.09</td><td>0</td><td>1</td></tr>\n",
       "\t<tr><th scope=row>8</th><td>69</td><td>0</td><td> 94.39</td><td>0</td><td>1</td></tr>\n",
       "\t<tr><th scope=row>10</th><td>78</td><td>0</td><td> 58.57</td><td>0</td><td>1</td></tr>\n",
       "</tbody>\n",
       "</table>\n"
      ],
      "text/latex": [
       "A data.frame: 6 × 5\n",
       "\\begin{tabular}{r|lllll}\n",
       "  & age & hypertension & avg\\_glucose\\_level & work\\_self & stroke\\\\\n",
       "  & <dbl> & <fct> & <dbl> & <fct> & <fct>\\\\\n",
       "\\hline\n",
       "\t1 & 67 & 0 & 228.69 & 0 & 1\\\\\n",
       "\t3 & 80 & 0 & 105.92 & 0 & 1\\\\\n",
       "\t5 & 79 & 1 & 174.12 & 1 & 1\\\\\n",
       "\t7 & 74 & 1 &  70.09 & 0 & 1\\\\\n",
       "\t8 & 69 & 0 &  94.39 & 0 & 1\\\\\n",
       "\t10 & 78 & 0 &  58.57 & 0 & 1\\\\\n",
       "\\end{tabular}\n"
      ],
      "text/markdown": [
       "\n",
       "A data.frame: 6 × 5\n",
       "\n",
       "| <!--/--> | age &lt;dbl&gt; | hypertension &lt;fct&gt; | avg_glucose_level &lt;dbl&gt; | work_self &lt;fct&gt; | stroke &lt;fct&gt; |\n",
       "|---|---|---|---|---|---|\n",
       "| 1 | 67 | 0 | 228.69 | 0 | 1 |\n",
       "| 3 | 80 | 0 | 105.92 | 0 | 1 |\n",
       "| 5 | 79 | 1 | 174.12 | 1 | 1 |\n",
       "| 7 | 74 | 1 |  70.09 | 0 | 1 |\n",
       "| 8 | 69 | 0 |  94.39 | 0 | 1 |\n",
       "| 10 | 78 | 0 |  58.57 | 0 | 1 |\n",
       "\n"
      ],
      "text/plain": [
       "   age hypertension avg_glucose_level work_self stroke\n",
       "1  67  0            228.69            0         1     \n",
       "3  80  0            105.92            0         1     \n",
       "5  79  1            174.12            1         1     \n",
       "7  74  1             70.09            0         1     \n",
       "8  69  0             94.39            0         1     \n",
       "10 78  0             58.57            0         1     "
      ]
     },
     "metadata": {},
     "output_type": "display_data"
    },
    {
     "name": "stdout",
     "output_type": "stream",
     "text": [
      "'data.frame':\t3578 obs. of  5 variables:\n",
      " $ age              : num  67 80 79 74 69 78 61 54 79 64 ...\n",
      " $ hypertension     : Factor w/ 2 levels \"0\",\"1\": 1 1 2 2 1 1 1 1 1 1 ...\n",
      " $ avg_glucose_level: num  228.7 105.9 174.1 70.1 94.4 ...\n",
      " $ work_self        : Factor w/ 2 levels \"0\",\"1\": 1 1 2 1 1 1 1 1 1 1 ...\n",
      " $ stroke           : Factor w/ 2 levels \"0\",\"1\": 2 2 2 2 2 2 2 2 2 2 ...\n"
     ]
    },
    {
     "data": {
      "text/html": [
       "<table class=\"dataframe\">\n",
       "<caption>A data.frame: 6 × 5</caption>\n",
       "<thead>\n",
       "\t<tr><th></th><th scope=col>age</th><th scope=col>hypertension</th><th scope=col>avg_glucose_level</th><th scope=col>work_self</th><th scope=col>stroke</th></tr>\n",
       "\t<tr><th></th><th scope=col>&lt;dbl&gt;</th><th scope=col>&lt;fct&gt;</th><th scope=col>&lt;dbl&gt;</th><th scope=col>&lt;fct&gt;</th><th scope=col>&lt;fct&gt;</th></tr>\n",
       "</thead>\n",
       "<tbody>\n",
       "\t<tr><th scope=row>2</th><td>61</td><td>0</td><td>202.21</td><td>1</td><td>1</td></tr>\n",
       "\t<tr><th scope=row>4</th><td>49</td><td>0</td><td>171.23</td><td>0</td><td>1</td></tr>\n",
       "\t<tr><th scope=row>6</th><td>81</td><td>0</td><td>186.21</td><td>0</td><td>1</td></tr>\n",
       "\t<tr><th scope=row>9</th><td>59</td><td>0</td><td> 76.15</td><td>0</td><td>1</td></tr>\n",
       "\t<tr><th scope=row>11</th><td>81</td><td>1</td><td> 80.43</td><td>0</td><td>1</td></tr>\n",
       "\t<tr><th scope=row>14</th><td>78</td><td>0</td><td>219.84</td><td>0</td><td>1</td></tr>\n",
       "</tbody>\n",
       "</table>\n"
      ],
      "text/latex": [
       "A data.frame: 6 × 5\n",
       "\\begin{tabular}{r|lllll}\n",
       "  & age & hypertension & avg\\_glucose\\_level & work\\_self & stroke\\\\\n",
       "  & <dbl> & <fct> & <dbl> & <fct> & <fct>\\\\\n",
       "\\hline\n",
       "\t2 & 61 & 0 & 202.21 & 1 & 1\\\\\n",
       "\t4 & 49 & 0 & 171.23 & 0 & 1\\\\\n",
       "\t6 & 81 & 0 & 186.21 & 0 & 1\\\\\n",
       "\t9 & 59 & 0 &  76.15 & 0 & 1\\\\\n",
       "\t11 & 81 & 1 &  80.43 & 0 & 1\\\\\n",
       "\t14 & 78 & 0 & 219.84 & 0 & 1\\\\\n",
       "\\end{tabular}\n"
      ],
      "text/markdown": [
       "\n",
       "A data.frame: 6 × 5\n",
       "\n",
       "| <!--/--> | age &lt;dbl&gt; | hypertension &lt;fct&gt; | avg_glucose_level &lt;dbl&gt; | work_self &lt;fct&gt; | stroke &lt;fct&gt; |\n",
       "|---|---|---|---|---|---|\n",
       "| 2 | 61 | 0 | 202.21 | 1 | 1 |\n",
       "| 4 | 49 | 0 | 171.23 | 0 | 1 |\n",
       "| 6 | 81 | 0 | 186.21 | 0 | 1 |\n",
       "| 9 | 59 | 0 |  76.15 | 0 | 1 |\n",
       "| 11 | 81 | 1 |  80.43 | 0 | 1 |\n",
       "| 14 | 78 | 0 | 219.84 | 0 | 1 |\n",
       "\n"
      ],
      "text/plain": [
       "   age hypertension avg_glucose_level work_self stroke\n",
       "2  61  0            202.21            1         1     \n",
       "4  49  0            171.23            0         1     \n",
       "6  81  0            186.21            0         1     \n",
       "9  59  0             76.15            0         1     \n",
       "11 81  1             80.43            0         1     \n",
       "14 78  0            219.84            0         1     "
      ]
     },
     "metadata": {},
     "output_type": "display_data"
    },
    {
     "name": "stdout",
     "output_type": "stream",
     "text": [
      "'data.frame':\t1532 obs. of  5 variables:\n",
      " $ age              : num  61 49 81 59 81 78 50 52 79 42 ...\n",
      " $ hypertension     : Factor w/ 2 levels \"0\",\"1\": 1 1 1 1 2 1 2 2 1 1 ...\n",
      " $ avg_glucose_level: num  202.2 171.2 186.2 76.2 80.4 ...\n",
      " $ work_self        : Factor w/ 2 levels \"0\",\"1\": 2 1 1 1 1 1 2 2 2 1 ...\n",
      " $ stroke           : Factor w/ 2 levels \"0\",\"1\": 2 2 2 2 2 2 2 2 2 2 ...\n"
     ]
    }
   ],
   "source": [
    "cat(\"Train Test split - using caret\\n\")\n",
    "trainIndex2 <- createDataPartition(data2$stroke, p = 0.7, \n",
    "                                  list = FALSE, \n",
    "                                  times = 1)\n",
    "dataTrain02 <- data2[ trainIndex2,]\n",
    "dataTest2  <- data2[-trainIndex2,]\n",
    "head(dataTrain02)\n",
    "str(dataTrain02)\n",
    "head(dataTest2)\n",
    "str(dataTest2)"
   ]
  },
  {
   "cell_type": "markdown",
   "id": "duplicate-drink",
   "metadata": {
    "papermill": {
     "duration": 0.075024,
     "end_time": "2021-06-14T00:54:00.190402",
     "exception": false,
     "start_time": "2021-06-14T00:54:00.115378",
     "status": "completed"
    },
    "tags": []
   },
   "source": [
    "**Balance Data**"
   ]
  },
  {
   "cell_type": "code",
   "execution_count": 24,
   "id": "genetic-assembly",
   "metadata": {
    "execution": {
     "iopub.execute_input": "2021-06-14T00:54:00.304180Z",
     "iopub.status.busy": "2021-06-14T00:54:00.303392Z",
     "iopub.status.idle": "2021-06-14T00:54:00.328704Z",
     "shell.execute_reply": "2021-06-14T00:54:00.327427Z"
    },
    "papermill": {
     "duration": 0.08384,
     "end_time": "2021-06-14T00:54:00.328804",
     "exception": false,
     "start_time": "2021-06-14T00:54:00.244964",
     "status": "completed"
    },
    "tags": []
   },
   "outputs": [
    {
     "name": "stdout",
     "output_type": "stream",
     "text": [
      "Balance (train) data by oversampling. From 5% do 30%\n",
      "'data.frame':\t4826 obs. of  5 variables:\n",
      " $ age              : num  3 58 8 52 75 32 79 37 40 35 ...\n",
      " $ hypertension     : Factor w/ 2 levels \"0\",\"1\": 1 2 1 1 1 1 1 1 1 1 ...\n",
      " $ avg_glucose_level: num  95.1 88 110.9 77.6 243.5 ...\n",
      " $ work_self        : Factor w/ 2 levels \"0\",\"1\": 1 1 1 1 2 1 1 1 1 1 ...\n",
      " $ stroke           : Factor w/ 2 levels \"0\",\"1\": 1 1 1 1 1 1 1 1 1 1 ...\n"
     ]
    }
   ],
   "source": [
    "cat(\"Balance (train) data by oversampling. From 5% do 30%\\n\")\n",
    "dataTrain2 <- ovun.sample(as.factor(stroke)~.,data = dataTrain02, method = 'over',p = 0.3)$data\n",
    "str(dataTrain2)"
   ]
  },
  {
   "cell_type": "markdown",
   "id": "constant-hormone",
   "metadata": {
    "papermill": {
     "duration": 0.055091,
     "end_time": "2021-06-14T00:54:00.438937",
     "exception": false,
     "start_time": "2021-06-14T00:54:00.383846",
     "status": "completed"
    },
    "tags": []
   },
   "source": [
    "**Run Model**"
   ]
  },
  {
   "cell_type": "code",
   "execution_count": 25,
   "id": "corrected-theme",
   "metadata": {
    "execution": {
     "iopub.execute_input": "2021-06-14T00:54:00.572996Z",
     "iopub.status.busy": "2021-06-14T00:54:00.569536Z",
     "iopub.status.idle": "2021-06-14T00:54:02.954853Z",
     "shell.execute_reply": "2021-06-14T00:54:02.953755Z"
    },
    "papermill": {
     "duration": 2.456637,
     "end_time": "2021-06-14T00:54:02.955054",
     "exception": false,
     "start_time": "2021-06-14T00:54:00.498417",
     "status": "completed"
    },
    "tags": []
   },
   "outputs": [],
   "source": [
    "rf <- randomForest(stroke ~., data = dataTrain2, ntree = 1000, mtry = 1)"
   ]
  },
  {
   "cell_type": "code",
   "execution_count": 26,
   "id": "worldwide-affiliation",
   "metadata": {
    "execution": {
     "iopub.execute_input": "2021-06-14T00:54:03.123750Z",
     "iopub.status.busy": "2021-06-14T00:54:03.122664Z",
     "iopub.status.idle": "2021-06-14T00:54:03.139226Z",
     "shell.execute_reply": "2021-06-14T00:54:03.138127Z"
    },
    "papermill": {
     "duration": 0.102188,
     "end_time": "2021-06-14T00:54:03.139349",
     "exception": false,
     "start_time": "2021-06-14T00:54:03.037161",
     "status": "completed"
    },
    "tags": []
   },
   "outputs": [
    {
     "data": {
      "text/plain": [
       "\n",
       "Call:\n",
       " randomForest(formula = stroke ~ ., data = dataTrain2, ntree = 1000,      mtry = 1) \n",
       "               Type of random forest: classification\n",
       "                     Number of trees: 1000\n",
       "No. of variables tried at each split: 1\n",
       "\n",
       "        OOB estimate of  error rate: 19.91%\n",
       "Confusion matrix:\n",
       "     0   1 class.error\n",
       "0 3147 256  0.07522774\n",
       "1  705 718  0.49543219"
      ]
     },
     "metadata": {},
     "output_type": "display_data"
    },
    {
     "data": {
      "text/plain": [
       "                Length Class  Mode     \n",
       "call               5   -none- call     \n",
       "type               1   -none- character\n",
       "predicted       4826   factor numeric  \n",
       "err.rate        3000   -none- numeric  \n",
       "confusion          6   -none- numeric  \n",
       "votes           9652   matrix numeric  \n",
       "oob.times       4826   -none- numeric  \n",
       "classes            2   -none- character\n",
       "importance         4   -none- numeric  \n",
       "importanceSD       0   -none- NULL     \n",
       "localImportance    0   -none- NULL     \n",
       "proximity          0   -none- NULL     \n",
       "ntree              1   -none- numeric  \n",
       "mtry               1   -none- numeric  \n",
       "forest            14   -none- list     \n",
       "y               4826   factor numeric  \n",
       "test               0   -none- NULL     \n",
       "inbag              0   -none- NULL     \n",
       "terms              3   terms  call     "
      ]
     },
     "metadata": {},
     "output_type": "display_data"
    }
   ],
   "source": [
    "rf\n",
    "summary(rf)"
   ]
  },
  {
   "cell_type": "code",
   "execution_count": 27,
   "id": "historical-orchestra",
   "metadata": {
    "execution": {
     "iopub.execute_input": "2021-06-14T00:54:03.312812Z",
     "iopub.status.busy": "2021-06-14T00:54:03.311317Z",
     "iopub.status.idle": "2021-06-14T00:54:03.401188Z",
     "shell.execute_reply": "2021-06-14T00:54:03.400168Z"
    },
    "papermill": {
     "duration": 0.177844,
     "end_time": "2021-06-14T00:54:03.401293",
     "exception": false,
     "start_time": "2021-06-14T00:54:03.223449",
     "status": "completed"
    },
    "tags": []
   },
   "outputs": [
    {
     "name": "stdout",
     "output_type": "stream",
     "text": [
      "Predict on Train"
     ]
    },
    {
     "data": {
      "text/html": [
       "4826"
      ],
      "text/latex": [
       "4826"
      ],
      "text/markdown": [
       "4826"
      ],
      "text/plain": [
       "[1] 4826"
      ]
     },
     "metadata": {},
     "output_type": "display_data"
    },
    {
     "data": {
      "text/html": [
       "<style>\n",
       ".dl-inline {width: auto; margin:0; padding: 0}\n",
       ".dl-inline>dt, .dl-inline>dd {float: none; width: auto; display: inline-block}\n",
       ".dl-inline>dt::after {content: \":\\0020\"; padding-right: .5ex}\n",
       ".dl-inline>dt:not(:first-of-type) {padding-left: .5ex}\n",
       "</style><dl class=dl-inline><dt>1</dt><dd>0</dd><dt>2</dt><dd>0</dd><dt>3</dt><dd>0</dd><dt>4</dt><dd>0</dd><dt>5</dt><dd>0</dd><dt>6</dt><dd>0</dd><dt>7</dt><dd>0</dd><dt>8</dt><dd>0</dd><dt>9</dt><dd>0</dd><dt>10</dt><dd>0</dd><dt>11</dt><dd>0</dd><dt>12</dt><dd>0</dd><dt>13</dt><dd>0</dd><dt>14</dt><dd>0</dd><dt>15</dt><dd>0</dd><dt>16</dt><dd>0</dd><dt>17</dt><dd>1</dd><dt>18</dt><dd>0</dd><dt>19</dt><dd>0</dd><dt>20</dt><dd>0</dd><dt>21</dt><dd>0</dd><dt>22</dt><dd>0</dd><dt>23</dt><dd>0</dd><dt>24</dt><dd>0</dd><dt>25</dt><dd>0</dd><dt>26</dt><dd>0</dd><dt>27</dt><dd>0</dd><dt>28</dt><dd>0</dd><dt>29</dt><dd>0</dd><dt>30</dt><dd>0</dd><dt>31</dt><dd>1</dd><dt>32</dt><dd>0</dd><dt>33</dt><dd>0</dd><dt>34</dt><dd>0</dd><dt>35</dt><dd>0</dd><dt>36</dt><dd>0</dd><dt>37</dt><dd>0</dd><dt>38</dt><dd>1</dd><dt>39</dt><dd>0</dd><dt>40</dt><dd>0</dd><dt>41</dt><dd>0</dd><dt>42</dt><dd>0</dd><dt>43</dt><dd>0</dd><dt>44</dt><dd>0</dd><dt>45</dt><dd>0</dd><dt>46</dt><dd>0</dd><dt>47</dt><dd>1</dd><dt>48</dt><dd>0</dd><dt>49</dt><dd>0</dd><dt>50</dt><dd>0</dd></dl>\n",
       "\n",
       "<details>\n",
       "\t<summary style=display:list-item;cursor:pointer>\n",
       "\t\t<strong>Levels</strong>:\n",
       "\t</summary>\n",
       "\t<style>\n",
       "\t.list-inline {list-style: none; margin:0; padding: 0}\n",
       "\t.list-inline>li {display: inline-block}\n",
       "\t.list-inline>li:not(:last-child)::after {content: \"\\00b7\"; padding: 0 .5ex}\n",
       "\t</style>\n",
       "\t<ol class=list-inline><li>'0'</li><li>'1'</li></ol>\n",
       "</details>"
      ],
      "text/latex": [
       "\\begin{description*}\n",
       "\\item[1] 0\n",
       "\\item[2] 0\n",
       "\\item[3] 0\n",
       "\\item[4] 0\n",
       "\\item[5] 0\n",
       "\\item[6] 0\n",
       "\\item[7] 0\n",
       "\\item[8] 0\n",
       "\\item[9] 0\n",
       "\\item[10] 0\n",
       "\\item[11] 0\n",
       "\\item[12] 0\n",
       "\\item[13] 0\n",
       "\\item[14] 0\n",
       "\\item[15] 0\n",
       "\\item[16] 0\n",
       "\\item[17] 1\n",
       "\\item[18] 0\n",
       "\\item[19] 0\n",
       "\\item[20] 0\n",
       "\\item[21] 0\n",
       "\\item[22] 0\n",
       "\\item[23] 0\n",
       "\\item[24] 0\n",
       "\\item[25] 0\n",
       "\\item[26] 0\n",
       "\\item[27] 0\n",
       "\\item[28] 0\n",
       "\\item[29] 0\n",
       "\\item[30] 0\n",
       "\\item[31] 1\n",
       "\\item[32] 0\n",
       "\\item[33] 0\n",
       "\\item[34] 0\n",
       "\\item[35] 0\n",
       "\\item[36] 0\n",
       "\\item[37] 0\n",
       "\\item[38] 1\n",
       "\\item[39] 0\n",
       "\\item[40] 0\n",
       "\\item[41] 0\n",
       "\\item[42] 0\n",
       "\\item[43] 0\n",
       "\\item[44] 0\n",
       "\\item[45] 0\n",
       "\\item[46] 0\n",
       "\\item[47] 1\n",
       "\\item[48] 0\n",
       "\\item[49] 0\n",
       "\\item[50] 0\n",
       "\\end{description*}\n",
       "\n",
       "\\emph{Levels}: \\begin{enumerate*}\n",
       "\\item '0'\n",
       "\\item '1'\n",
       "\\end{enumerate*}\n"
      ],
      "text/markdown": [
       "1\n",
       ":   02\n",
       ":   03\n",
       ":   04\n",
       ":   05\n",
       ":   06\n",
       ":   07\n",
       ":   08\n",
       ":   09\n",
       ":   010\n",
       ":   011\n",
       ":   012\n",
       ":   013\n",
       ":   014\n",
       ":   015\n",
       ":   016\n",
       ":   017\n",
       ":   118\n",
       ":   019\n",
       ":   020\n",
       ":   021\n",
       ":   022\n",
       ":   023\n",
       ":   024\n",
       ":   025\n",
       ":   026\n",
       ":   027\n",
       ":   028\n",
       ":   029\n",
       ":   030\n",
       ":   031\n",
       ":   132\n",
       ":   033\n",
       ":   034\n",
       ":   035\n",
       ":   036\n",
       ":   037\n",
       ":   038\n",
       ":   139\n",
       ":   040\n",
       ":   041\n",
       ":   042\n",
       ":   043\n",
       ":   044\n",
       ":   045\n",
       ":   046\n",
       ":   047\n",
       ":   148\n",
       ":   049\n",
       ":   050\n",
       ":   0\n",
       "\n",
       "\n",
       "**Levels**: 1. '0'\n",
       "2. '1'\n",
       "\n",
       "\n"
      ],
      "text/plain": [
       " 1  2  3  4  5  6  7  8  9 10 11 12 13 14 15 16 17 18 19 20 21 22 23 24 25 26 \n",
       " 0  0  0  0  0  0  0  0  0  0  0  0  0  0  0  0  1  0  0  0  0  0  0  0  0  0 \n",
       "27 28 29 30 31 32 33 34 35 36 37 38 39 40 41 42 43 44 45 46 47 48 49 50 \n",
       " 0  0  0  0  1  0  0  0  0  0  0  1  0  0  0  0  0  0  0  0  1  0  0  0 \n",
       "Levels: 0 1"
      ]
     },
     "metadata": {},
     "output_type": "display_data"
    },
    {
     "name": "stdout",
     "output_type": "stream",
     "text": [
      "Predict on Test"
     ]
    },
    {
     "data": {
      "text/html": [
       "1532"
      ],
      "text/latex": [
       "1532"
      ],
      "text/markdown": [
       "1532"
      ],
      "text/plain": [
       "[1] 1532"
      ]
     },
     "metadata": {},
     "output_type": "display_data"
    },
    {
     "data": {
      "text/html": [
       "<style>\n",
       ".dl-inline {width: auto; margin:0; padding: 0}\n",
       ".dl-inline>dt, .dl-inline>dd {float: none; width: auto; display: inline-block}\n",
       ".dl-inline>dt::after {content: \":\\0020\"; padding-right: .5ex}\n",
       ".dl-inline>dt:not(:first-of-type) {padding-left: .5ex}\n",
       "</style><dl class=dl-inline><dt>2</dt><dd>0</dd><dt>4</dt><dd>0</dd><dt>6</dt><dd>1</dd><dt>9</dt><dd>0</dd><dt>11</dt><dd>1</dd><dt>14</dt><dd>1</dd><dt>16</dt><dd>0</dd><dt>22</dt><dd>0</dd><dt>23</dt><dd>0</dd><dt>32</dt><dd>0</dd><dt>35</dt><dd>0</dd><dt>36</dt><dd>0</dd><dt>38</dt><dd>1</dd><dt>41</dt><dd>0</dd><dt>43</dt><dd>0</dd><dt>44</dt><dd>0</dd><dt>47</dt><dd>0</dd><dt>55</dt><dd>1</dd><dt>57</dt><dd>0</dd><dt>68</dt><dd>0</dd><dt>70</dt><dd>1</dd><dt>74</dt><dd>1</dd><dt>75</dt><dd>0</dd><dt>76</dt><dd>0</dd><dt>77</dt><dd>1</dd><dt>81</dt><dd>0</dd><dt>82</dt><dd>0</dd><dt>83</dt><dd>0</dd><dt>86</dt><dd>0</dd><dt>87</dt><dd>0</dd><dt>88</dt><dd>0</dd><dt>92</dt><dd>0</dd><dt>94</dt><dd>1</dd><dt>100</dt><dd>0</dd><dt>105</dt><dd>0</dd><dt>106</dt><dd>0</dd><dt>108</dt><dd>0</dd><dt>111</dt><dd>1</dd><dt>112</dt><dd>0</dd><dt>116</dt><dd>1</dd><dt>129</dt><dd>1</dd><dt>132</dt><dd>1</dd><dt>133</dt><dd>1</dd><dt>134</dt><dd>0</dd><dt>139</dt><dd>1</dd><dt>143</dt><dd>1</dd><dt>145</dt><dd>1</dd><dt>151</dt><dd>1</dd><dt>152</dt><dd>1</dd><dt>161</dt><dd>0</dd></dl>\n",
       "\n",
       "<details>\n",
       "\t<summary style=display:list-item;cursor:pointer>\n",
       "\t\t<strong>Levels</strong>:\n",
       "\t</summary>\n",
       "\t<style>\n",
       "\t.list-inline {list-style: none; margin:0; padding: 0}\n",
       "\t.list-inline>li {display: inline-block}\n",
       "\t.list-inline>li:not(:last-child)::after {content: \"\\00b7\"; padding: 0 .5ex}\n",
       "\t</style>\n",
       "\t<ol class=list-inline><li>'0'</li><li>'1'</li></ol>\n",
       "</details>"
      ],
      "text/latex": [
       "\\begin{description*}\n",
       "\\item[2] 0\n",
       "\\item[4] 0\n",
       "\\item[6] 1\n",
       "\\item[9] 0\n",
       "\\item[11] 1\n",
       "\\item[14] 1\n",
       "\\item[16] 0\n",
       "\\item[22] 0\n",
       "\\item[23] 0\n",
       "\\item[32] 0\n",
       "\\item[35] 0\n",
       "\\item[36] 0\n",
       "\\item[38] 1\n",
       "\\item[41] 0\n",
       "\\item[43] 0\n",
       "\\item[44] 0\n",
       "\\item[47] 0\n",
       "\\item[55] 1\n",
       "\\item[57] 0\n",
       "\\item[68] 0\n",
       "\\item[70] 1\n",
       "\\item[74] 1\n",
       "\\item[75] 0\n",
       "\\item[76] 0\n",
       "\\item[77] 1\n",
       "\\item[81] 0\n",
       "\\item[82] 0\n",
       "\\item[83] 0\n",
       "\\item[86] 0\n",
       "\\item[87] 0\n",
       "\\item[88] 0\n",
       "\\item[92] 0\n",
       "\\item[94] 1\n",
       "\\item[100] 0\n",
       "\\item[105] 0\n",
       "\\item[106] 0\n",
       "\\item[108] 0\n",
       "\\item[111] 1\n",
       "\\item[112] 0\n",
       "\\item[116] 1\n",
       "\\item[129] 1\n",
       "\\item[132] 1\n",
       "\\item[133] 1\n",
       "\\item[134] 0\n",
       "\\item[139] 1\n",
       "\\item[143] 1\n",
       "\\item[145] 1\n",
       "\\item[151] 1\n",
       "\\item[152] 1\n",
       "\\item[161] 0\n",
       "\\end{description*}\n",
       "\n",
       "\\emph{Levels}: \\begin{enumerate*}\n",
       "\\item '0'\n",
       "\\item '1'\n",
       "\\end{enumerate*}\n"
      ],
      "text/markdown": [
       "2\n",
       ":   04\n",
       ":   06\n",
       ":   19\n",
       ":   011\n",
       ":   114\n",
       ":   116\n",
       ":   022\n",
       ":   023\n",
       ":   032\n",
       ":   035\n",
       ":   036\n",
       ":   038\n",
       ":   141\n",
       ":   043\n",
       ":   044\n",
       ":   047\n",
       ":   055\n",
       ":   157\n",
       ":   068\n",
       ":   070\n",
       ":   174\n",
       ":   175\n",
       ":   076\n",
       ":   077\n",
       ":   181\n",
       ":   082\n",
       ":   083\n",
       ":   086\n",
       ":   087\n",
       ":   088\n",
       ":   092\n",
       ":   094\n",
       ":   1100\n",
       ":   0105\n",
       ":   0106\n",
       ":   0108\n",
       ":   0111\n",
       ":   1112\n",
       ":   0116\n",
       ":   1129\n",
       ":   1132\n",
       ":   1133\n",
       ":   1134\n",
       ":   0139\n",
       ":   1143\n",
       ":   1145\n",
       ":   1151\n",
       ":   1152\n",
       ":   1161\n",
       ":   0\n",
       "\n",
       "\n",
       "**Levels**: 1. '0'\n",
       "2. '1'\n",
       "\n",
       "\n"
      ],
      "text/plain": [
       "  2   4   6   9  11  14  16  22  23  32  35  36  38  41  43  44  47  55  57  68 \n",
       "  0   0   1   0   1   1   0   0   0   0   0   0   1   0   0   0   0   1   0   0 \n",
       " 70  74  75  76  77  81  82  83  86  87  88  92  94 100 105 106 108 111 112 116 \n",
       "  1   1   0   0   1   0   0   0   0   0   0   0   1   0   0   0   0   1   0   1 \n",
       "129 132 133 134 139 143 145 151 152 161 \n",
       "  1   1   1   0   1   1   1   1   1   0 \n",
       "Levels: 0 1"
      ]
     },
     "metadata": {},
     "output_type": "display_data"
    }
   ],
   "source": [
    "cat(\"Predict on Train\")\n",
    "predRF_train <- predict(rf)\n",
    "#predRF_train <- ifelse(predRF_train0 >0.10,1,0)\n",
    "#sum(predRF_train)\n",
    "#how they look\n",
    "length(predRF_train)\n",
    "head(predRF_train,50)\n",
    "\n",
    "cat(\"Predict on Test\")\n",
    "predRF_test <- predict(rf, newdata = dataTest2)\n",
    "#predRF_test <- ifelse(predRF_test0 >0.10,1,0)\n",
    "#sum(predRF_test)\n",
    "#how they look\n",
    "length(predRF_test)\n",
    "head(predRF_test,50)"
   ]
  },
  {
   "cell_type": "code",
   "execution_count": 28,
   "id": "illegal-exploration",
   "metadata": {
    "execution": {
     "iopub.execute_input": "2021-06-14T00:54:03.524212Z",
     "iopub.status.busy": "2021-06-14T00:54:03.523227Z",
     "iopub.status.idle": "2021-06-14T00:54:03.610234Z",
     "shell.execute_reply": "2021-06-14T00:54:03.609772Z"
    },
    "papermill": {
     "duration": 0.148993,
     "end_time": "2021-06-14T00:54:03.610339",
     "exception": false,
     "start_time": "2021-06-14T00:54:03.461346",
     "status": "completed"
    },
    "tags": []
   },
   "outputs": [
    {
     "data": {
      "image/png": "[encoded data removed]"
     },
     "metadata": {
      "image/png": {
       "height": 420,
       "width": 420
      }
     },
     "output_type": "display_data"
    }
   ],
   "source": [
    "#Confusion Matrix\n",
    "a2 <- table(Predictions = predRF_train, TrueLabels = dataTrain2$stroke)\n",
    "fourfoldplot(a2, color = c(\"#CC6666\", \"#99CC99\"),\n",
    "             conf.level = 0, margin = 1, main = \"Confusion Matrix - Train\")"
   ]
  },
  {
   "cell_type": "code",
   "execution_count": 29,
   "id": "nonprofit-engagement",
   "metadata": {
    "execution": {
     "iopub.execute_input": "2021-06-14T00:54:03.734361Z",
     "iopub.status.busy": "2021-06-14T00:54:03.733416Z",
     "iopub.status.idle": "2021-06-14T00:54:03.756416Z",
     "shell.execute_reply": "2021-06-14T00:54:03.755680Z"
    },
    "papermill": {
     "duration": 0.086118,
     "end_time": "2021-06-14T00:54:03.756529",
     "exception": false,
     "start_time": "2021-06-14T00:54:03.670411",
     "status": "completed"
    },
    "tags": []
   },
   "outputs": [
    {
     "name": "stdout",
     "output_type": "stream",
     "text": [
      "Accuracy =  0.8008703\n",
      "Precision =  0.7371663\n",
      "Recall =  0.5045678\n",
      "F1 score =  0.5990822"
     ]
    }
   ],
   "source": [
    "#Accuracy\n",
    "acc2 <- ( a2[2,2] + a2[1,1] ) / (length(dataTrain2$stroke))\n",
    "cat(\"Accuracy = \",acc2 )\n",
    "#F1\n",
    "Precision2 =  a2[2,2] / ( a2[2,2] + a2[2,1] )\n",
    "cat(\"\\nPrecision = \",Precision2 )\n",
    "Recall2 =  a2[2,2] / ( a2[2,2] + a2[1,2] )\n",
    "cat(\"\\nRecall = \",Recall2 )\n",
    "F1score2  = 2*(Recall2 * Precision2) / (Recall2 + Precision2)\n",
    "cat(\"\\nF1 score = \",F1score2 )"
   ]
  },
  {
   "cell_type": "code",
   "execution_count": 30,
   "id": "powered-fishing",
   "metadata": {
    "execution": {
     "iopub.execute_input": "2021-06-14T00:54:03.884145Z",
     "iopub.status.busy": "2021-06-14T00:54:03.883306Z",
     "iopub.status.idle": "2021-06-14T00:54:03.965982Z",
     "shell.execute_reply": "2021-06-14T00:54:03.965545Z"
    },
    "papermill": {
     "duration": 0.146946,
     "end_time": "2021-06-14T00:54:03.966081",
     "exception": false,
     "start_time": "2021-06-14T00:54:03.819135",
     "status": "completed"
    },
    "tags": []
   },
   "outputs": [
    {
     "data": {
      "image/png": "[encoded data removed]"
     },
     "metadata": {
      "image/png": {
       "height": 420,
       "width": 420
      }
     },
     "output_type": "display_data"
    }
   ],
   "source": [
    "#Confusion Matrix\n",
    "b2 <- table(Predictions = predRF_test, TrueLabels = dataTest2$stroke)\n",
    "fourfoldplot(b2, color = c(\"#CC6666\", \"#99CC99\"),\n",
    "             conf.level = 0, margin = 1, main = \"Confusion Matrix - Test\")"
   ]
  },
  {
   "cell_type": "code",
   "execution_count": 31,
   "id": "infinite-faculty",
   "metadata": {
    "execution": {
     "iopub.execute_input": "2021-06-14T00:54:04.101166Z",
     "iopub.status.busy": "2021-06-14T00:54:04.099854Z",
     "iopub.status.idle": "2021-06-14T00:54:04.128072Z",
     "shell.execute_reply": "2021-06-14T00:54:04.126482Z"
    },
    "papermill": {
     "duration": 0.096525,
     "end_time": "2021-06-14T00:54:04.128202",
     "exception": false,
     "start_time": "2021-06-14T00:54:04.031677",
     "status": "completed"
    },
    "tags": []
   },
   "outputs": [
    {
     "name": "stdout",
     "output_type": "stream",
     "text": [
      "Accuracy =  0.9027415\n",
      "Precision =  0.2222222\n",
      "Recall =  0.4054054\n",
      "F1 score =  0.2870813"
     ]
    }
   ],
   "source": [
    "#Accuracy\n",
    "acc2 <- ( b2[2,2] + b2[1,1] ) / (length(dataTest2$stroke))\n",
    "cat(\"Accuracy = \",acc2 )\n",
    "#F1\n",
    "Precision2 =  b2[2,2] / ( b2[2,2] + b2[2,1] )\n",
    "cat(\"\\nPrecision = \",Precision2 )\n",
    "Recall2 =  b2[2,2] / ( b2[2,2] + b2[1,2] )\n",
    "cat(\"\\nRecall = \",Recall2 )\n",
    "F1score2  = 2*(Recall2 * Precision2) / (Recall2 + Precision2)\n",
    "cat(\"\\nF1 score = \",F1score2 )"
   ]
  },
  {
   "cell_type": "markdown",
   "id": "great-graham",
   "metadata": {
    "papermill": {
     "duration": 0.064614,
     "end_time": "2021-06-14T00:54:04.257772",
     "exception": false,
     "start_time": "2021-06-14T00:54:04.193158",
     "status": "completed"
    },
    "tags": []
   },
   "source": [
    "Result is better for Random Forest model. The Accuracy is much better. <br>\n",
    "F1 score is good for the Train set, but not so good for Test set... again, data might have become overfitted.\n"
   ]
  }
 ],
 "metadata": {
  "kernelspec": {
   "display_name": "R",
   "language": "R",
   "name": "ir"
  },
  "language_info": {
   "codemirror_mode": "r",
   "file_extension": ".r",
   "mimetype": "text/x-r-source",
   "name": "R",
   "pygments_lexer": "r",
   "version": "3.6.3"
  },
  "papermill": {
   "default_parameters": {},
   "duration": 16.006073,
   "end_time": "2021-06-14T00:54:04.431145",
   "environment_variables": {},
   "exception": null,
   "input_path": "__notebook__.ipynb",
   "output_path": "__notebook__.ipynb",
   "parameters": {},
   "start_time": "2021-06-14T00:53:48.425072",
   "version": "2.3.3"
  }
 },
 "nbformat": 4,
 "nbformat_minor": 5
}
